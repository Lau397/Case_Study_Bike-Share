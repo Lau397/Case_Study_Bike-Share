{
 "cells": [
  {
   "cell_type": "code",
   "execution_count": 1,
   "id": "cb4fb77d",
   "metadata": {
    "jupyter": {
     "outputs_hidden": true
    },
    "tags": []
   },
   "outputs": [],
   "source": [
    "# importing libraries to use\n",
    "import pandas as pd \n",
    "from datetime import datetime\n",
    "import geopy.distance\n",
    "import matplotlib.pyplot as plt\n",
    "import numpy as np"
   ]
  },
  {
   "cell_type": "code",
   "execution_count": 2,
   "id": "e0c09a8d",
   "metadata": {},
   "outputs": [
    {
     "name": "stdout",
     "output_type": "stream",
     "text": [
      "Cyclistic's dataframe has 258678 rows and 13 columns\n"
     ]
    }
   ],
   "source": [
    "df_bikes = pd.read_csv(\"Trip_Data_032023.csv\")\n",
    "\n",
    "# Let's take a look at the data size we're dealing with:\n",
    "print(\"Cyclistic's dataframe has\", df_bikes.shape[0], \"rows and\", df_bikes.shape[1], \"columns\")"
   ]
  },
  {
   "cell_type": "code",
   "execution_count": 3,
   "id": "c4f3df16",
   "metadata": {},
   "outputs": [
    {
     "data": {
      "text/html": [
       "<div>\n",
       "<style scoped>\n",
       "    .dataframe tbody tr th:only-of-type {\n",
       "        vertical-align: middle;\n",
       "    }\n",
       "\n",
       "    .dataframe tbody tr th {\n",
       "        vertical-align: top;\n",
       "    }\n",
       "\n",
       "    .dataframe thead th {\n",
       "        text-align: right;\n",
       "    }\n",
       "</style>\n",
       "<table border=\"1\" class=\"dataframe\">\n",
       "  <thead>\n",
       "    <tr style=\"text-align: right;\">\n",
       "      <th></th>\n",
       "      <th>ride_id</th>\n",
       "      <th>rideable_type</th>\n",
       "      <th>started_at</th>\n",
       "      <th>ended_at</th>\n",
       "      <th>start_station_name</th>\n",
       "      <th>start_station_id</th>\n",
       "      <th>end_station_name</th>\n",
       "      <th>end_station_id</th>\n",
       "      <th>start_lat</th>\n",
       "      <th>start_lng</th>\n",
       "      <th>end_lat</th>\n",
       "      <th>end_lng</th>\n",
       "      <th>member_casual</th>\n",
       "    </tr>\n",
       "  </thead>\n",
       "  <tbody>\n",
       "    <tr>\n",
       "      <th>0</th>\n",
       "      <td>6842AA605EE9FBB3</td>\n",
       "      <td>electric_bike</td>\n",
       "      <td>2023-03-16 08:20:34</td>\n",
       "      <td>2023-03-16 08:22:52</td>\n",
       "      <td>Clark St &amp; Armitage Ave</td>\n",
       "      <td>13146</td>\n",
       "      <td>Larrabee St &amp; Webster Ave</td>\n",
       "      <td>13193</td>\n",
       "      <td>41.918413</td>\n",
       "      <td>-87.636451</td>\n",
       "      <td>41.921822</td>\n",
       "      <td>-87.644140</td>\n",
       "      <td>member</td>\n",
       "    </tr>\n",
       "    <tr>\n",
       "      <th>1</th>\n",
       "      <td>F984267A75B99A8C</td>\n",
       "      <td>electric_bike</td>\n",
       "      <td>2023-03-04 14:07:06</td>\n",
       "      <td>2023-03-04 14:15:31</td>\n",
       "      <td>Public Rack - Kedzie Ave &amp; Argyle St</td>\n",
       "      <td>491</td>\n",
       "      <td>NaN</td>\n",
       "      <td>NaN</td>\n",
       "      <td>41.970000</td>\n",
       "      <td>-87.710000</td>\n",
       "      <td>41.950000</td>\n",
       "      <td>-87.710000</td>\n",
       "      <td>member</td>\n",
       "    </tr>\n",
       "    <tr>\n",
       "      <th>2</th>\n",
       "      <td>FF7CF57CFE026D02</td>\n",
       "      <td>classic_bike</td>\n",
       "      <td>2023-03-31 12:28:09</td>\n",
       "      <td>2023-03-31 12:38:47</td>\n",
       "      <td>Orleans St &amp; Chestnut St (NEXT Apts)</td>\n",
       "      <td>620</td>\n",
       "      <td>Clark St &amp; Randolph St</td>\n",
       "      <td>TA1305000030</td>\n",
       "      <td>41.898203</td>\n",
       "      <td>-87.637536</td>\n",
       "      <td>41.884576</td>\n",
       "      <td>-87.631890</td>\n",
       "      <td>member</td>\n",
       "    </tr>\n",
       "    <tr>\n",
       "      <th>3</th>\n",
       "      <td>6B61B916032CB6D6</td>\n",
       "      <td>classic_bike</td>\n",
       "      <td>2023-03-22 14:09:08</td>\n",
       "      <td>2023-03-22 14:24:51</td>\n",
       "      <td>Desplaines St &amp; Kinzie St</td>\n",
       "      <td>TA1306000003</td>\n",
       "      <td>Sheffield Ave &amp; Kingsbury St</td>\n",
       "      <td>13154</td>\n",
       "      <td>41.888716</td>\n",
       "      <td>-87.644448</td>\n",
       "      <td>41.910522</td>\n",
       "      <td>-87.653106</td>\n",
       "      <td>member</td>\n",
       "    </tr>\n",
       "    <tr>\n",
       "      <th>4</th>\n",
       "      <td>E55E61A5F1260040</td>\n",
       "      <td>electric_bike</td>\n",
       "      <td>2023-03-09 07:15:00</td>\n",
       "      <td>2023-03-09 07:26:00</td>\n",
       "      <td>Walsh Park</td>\n",
       "      <td>18067</td>\n",
       "      <td>Sangamon St &amp; Lake St</td>\n",
       "      <td>TA1306000015</td>\n",
       "      <td>41.914480</td>\n",
       "      <td>-87.668013</td>\n",
       "      <td>41.885779</td>\n",
       "      <td>-87.651025</td>\n",
       "      <td>member</td>\n",
       "    </tr>\n",
       "  </tbody>\n",
       "</table>\n",
       "</div>"
      ],
      "text/plain": [
       "            ride_id  rideable_type           started_at             ended_at  \\\n",
       "0  6842AA605EE9FBB3  electric_bike  2023-03-16 08:20:34  2023-03-16 08:22:52   \n",
       "1  F984267A75B99A8C  electric_bike  2023-03-04 14:07:06  2023-03-04 14:15:31   \n",
       "2  FF7CF57CFE026D02   classic_bike  2023-03-31 12:28:09  2023-03-31 12:38:47   \n",
       "3  6B61B916032CB6D6   classic_bike  2023-03-22 14:09:08  2023-03-22 14:24:51   \n",
       "4  E55E61A5F1260040  electric_bike  2023-03-09 07:15:00  2023-03-09 07:26:00   \n",
       "\n",
       "                     start_station_name start_station_id  \\\n",
       "0               Clark St & Armitage Ave            13146   \n",
       "1  Public Rack - Kedzie Ave & Argyle St              491   \n",
       "2  Orleans St & Chestnut St (NEXT Apts)              620   \n",
       "3             Desplaines St & Kinzie St     TA1306000003   \n",
       "4                            Walsh Park            18067   \n",
       "\n",
       "               end_station_name end_station_id  start_lat  start_lng  \\\n",
       "0     Larrabee St & Webster Ave          13193  41.918413 -87.636451   \n",
       "1                           NaN            NaN  41.970000 -87.710000   \n",
       "2        Clark St & Randolph St   TA1305000030  41.898203 -87.637536   \n",
       "3  Sheffield Ave & Kingsbury St          13154  41.888716 -87.644448   \n",
       "4         Sangamon St & Lake St   TA1306000015  41.914480 -87.668013   \n",
       "\n",
       "     end_lat    end_lng member_casual  \n",
       "0  41.921822 -87.644140        member  \n",
       "1  41.950000 -87.710000        member  \n",
       "2  41.884576 -87.631890        member  \n",
       "3  41.910522 -87.653106        member  \n",
       "4  41.885779 -87.651025        member  "
      ]
     },
     "execution_count": 3,
     "metadata": {},
     "output_type": "execute_result"
    }
   ],
   "source": [
    "# Taking a quick look at the first 5 rows of the dataframe:\n",
    "df_bikes.head()"
   ]
  },
  {
   "cell_type": "markdown",
   "id": "f9af75f5",
   "metadata": {},
   "source": [
    "The types are correct in relation to info displayed in the dataframe."
   ]
  },
  {
   "cell_type": "code",
   "execution_count": 4,
   "id": "cfa94e7b",
   "metadata": {},
   "outputs": [
    {
     "name": "stdout",
     "output_type": "stream",
     "text": [
      "The column 'rideable_type' has 3 different types of bikes registered, which are: electric_bike 148575 classic_bike 107083 and docked_bike 3020\n"
     ]
    }
   ],
   "source": [
    "# We have some columns that have different types of data in it that may be worth to look at.\n",
    "print(\"The column 'rideable_type' has\", df_bikes['rideable_type'].nunique(), \"different types of bikes registered, which are:\",\n",
    "     df_bikes['rideable_type'].unique()[0], df_bikes['rideable_type'].value_counts()[0],\n",
    "      df_bikes['rideable_type'].unique()[1], df_bikes['rideable_type'].value_counts()[1], \"and\",\n",
    "       df_bikes['rideable_type'].unique()[2], df_bikes['rideable_type'].value_counts()[2] )\n"
   ]
  },
  {
   "cell_type": "code",
   "execution_count": 5,
   "id": "ce19ec05",
   "metadata": {},
   "outputs": [
    {
     "name": "stdout",
     "output_type": "stream",
     "text": [
      "There are 2 different types of users registered, which are: member 196477 and casual 62201\n"
     ]
    }
   ],
   "source": [
    "# We can also see what types of members have been registered in this dataframe and how many for each:\n",
    "print(\"There are\", df_bikes['member_casual'].nunique(), \"different types of users registered, which are:\",\n",
    "     df_bikes['member_casual'].unique()[0], df_bikes['member_casual'].value_counts()[0], \"and\",\n",
    "      df_bikes['member_casual'].unique()[1], df_bikes['member_casual'].value_counts()[1] )"
   ]
  },
  {
   "cell_type": "code",
   "execution_count": 6,
   "id": "005deabf",
   "metadata": {},
   "outputs": [
    {
     "name": "stdout",
     "output_type": "stream",
     "text": [
      "Percentage of Member users (%): 75.954 Percentage of Casual users (%): 24.046\n"
     ]
    }
   ],
   "source": [
    "# In percentage this is represented as:\n",
    "member_percentage = (df_bikes['member_casual'].value_counts()[0]/df_bikes['member_casual'].value_counts().sum())*100\n",
    "casual_percentage = (df_bikes['member_casual'].value_counts()[1]/df_bikes['member_casual'].value_counts().sum())*100\n",
    "print(\"Percentage of Member users (%):\", round(member_percentage, 3),\n",
    "      \"Percentage of Casual users (%):\", round(casual_percentage, 3))"
   ]
  },
  {
   "cell_type": "markdown",
   "id": "67f6e264",
   "metadata": {},
   "source": [
    "From the data we can see that the majority of users are members with ~76% from the total registered and casual users with ~24%."
   ]
  },
  {
   "cell_type": "code",
   "execution_count": 7,
   "id": "0443c0b9",
   "metadata": {},
   "outputs": [
    {
     "data": {
      "text/plain": [
       "False    258678\n",
       "dtype: int64"
      ]
     },
     "execution_count": 7,
     "metadata": {},
     "output_type": "execute_result"
    }
   ],
   "source": [
    "# Checking if there is any duplicated value in the dataframe:\n",
    "df_bikes.duplicated().value_counts()"
   ]
  },
  {
   "cell_type": "code",
   "execution_count": 8,
   "id": "185ee37d-ec1f-4129-8f89-5ae032568ff6",
   "metadata": {},
   "outputs": [
    {
     "name": "stdout",
     "output_type": "stream",
     "text": [
      "<class 'pandas.core.frame.DataFrame'>\n",
      "RangeIndex: 258678 entries, 0 to 258677\n",
      "Data columns (total 13 columns):\n",
      " #   Column              Non-Null Count   Dtype  \n",
      "---  ------              --------------   -----  \n",
      " 0   ride_id             258678 non-null  object \n",
      " 1   rideable_type       258678 non-null  object \n",
      " 2   started_at          258678 non-null  object \n",
      " 3   ended_at            258678 non-null  object \n",
      " 4   start_station_name  222768 non-null  object \n",
      " 5   start_station_id    222768 non-null  object \n",
      " 6   end_station_name    220240 non-null  object \n",
      " 7   end_station_id      220240 non-null  object \n",
      " 8   start_lat           258678 non-null  float64\n",
      " 9   start_lng           258678 non-null  float64\n",
      " 10  end_lat             258495 non-null  float64\n",
      " 11  end_lng             258495 non-null  float64\n",
      " 12  member_casual       258678 non-null  object \n",
      "dtypes: float64(4), object(9)\n",
      "memory usage: 25.7+ MB\n"
     ]
    }
   ],
   "source": [
    "# We can also check for the type of data that there is in each column:\n",
    "# df_bikes.dtypes\n",
    "df_bikes.info()"
   ]
  },
  {
   "cell_type": "code",
   "execution_count": 9,
   "id": "2dbdc046",
   "metadata": {},
   "outputs": [],
   "source": [
    "# Columns 'started at' and 'ended at' are time data, so are not an object type, we should change that:\n",
    "df_bikes['started_at'] = pd.to_datetime(df_bikes['started_at'])\n",
    "df_bikes['ended_at'] = pd.to_datetime(df_bikes['ended_at'])"
   ]
  },
  {
   "cell_type": "code",
   "execution_count": 10,
   "id": "a98fe3c7",
   "metadata": {},
   "outputs": [
    {
     "data": {
      "text/plain": [
       "ride_id                       object\n",
       "rideable_type                 object\n",
       "started_at            datetime64[ns]\n",
       "ended_at              datetime64[ns]\n",
       "start_station_name            object\n",
       "start_station_id              object\n",
       "end_station_name              object\n",
       "end_station_id                object\n",
       "start_lat                    float64\n",
       "start_lng                    float64\n",
       "end_lat                      float64\n",
       "end_lng                      float64\n",
       "member_casual                 object\n",
       "dtype: object"
      ]
     },
     "execution_count": 10,
     "metadata": {},
     "output_type": "execute_result"
    }
   ],
   "source": [
    "# We can now check again if it's changed or not:\n",
    "df_bikes.dtypes"
   ]
  },
  {
   "cell_type": "code",
   "execution_count": 11,
   "id": "d7fdb10a",
   "metadata": {},
   "outputs": [
    {
     "data": {
      "text/plain": [
       "ride_id                   0\n",
       "rideable_type             0\n",
       "started_at                0\n",
       "ended_at                  0\n",
       "start_station_name    35910\n",
       "start_station_id      35910\n",
       "end_station_name      38438\n",
       "end_station_id        38438\n",
       "start_lat                 0\n",
       "start_lng                 0\n",
       "end_lat                 183\n",
       "end_lng                 183\n",
       "member_casual             0\n",
       "dtype: int64"
      ]
     },
     "execution_count": 11,
     "metadata": {},
     "output_type": "execute_result"
    }
   ],
   "source": [
    "# Let's consider now the nan values that may have been registered, first we'll check if they exist in the dataframe:\n",
    "df_bikes.isna().sum()"
   ]
  },
  {
   "cell_type": "code",
   "execution_count": 12,
   "id": "569958a0-82c3-4b5f-8b5a-60f8a1e60b14",
   "metadata": {},
   "outputs": [
    {
     "name": "stdout",
     "output_type": "stream",
     "text": [
      "As percentages, the NaN values in the current data set would be:\n",
      " ride_id                0.000000\n",
      "rideable_type          0.000000\n",
      "started_at             0.000000\n",
      "ended_at               0.000000\n",
      "start_station_name    16.119910\n",
      "start_station_id      16.119910\n",
      "end_station_name      17.452779\n",
      "end_station_id        17.452779\n",
      "start_lat              0.000000\n",
      "start_lng              0.000000\n",
      "end_lat                0.070794\n",
      "end_lng                0.070794\n",
      "member_casual          0.000000\n",
      "dtype: float64\n"
     ]
    }
   ],
   "source": [
    "print(\"As percentages, the NaN values in the current data set would be:\\n\",\n",
    "      (df_bikes.isna().sum()/df_bikes.count())*100)"
   ]
  },
  {
   "cell_type": "code",
   "execution_count": 13,
   "id": "59dd3cbb",
   "metadata": {},
   "outputs": [
    {
     "data": {
      "text/plain": [
       "988"
      ]
     },
     "execution_count": 13,
     "metadata": {},
     "output_type": "execute_result"
    }
   ],
   "source": [
    "df_bikes.start_station_name.nunique()"
   ]
  },
  {
   "attachments": {},
   "cell_type": "markdown",
   "id": "fad619ec-2a7b-4198-90ed-38b3b539b787",
   "metadata": {},
   "source": [
    "We have between 0% and ~15% of NaN values in the location columns. So far we've seen that according to the company's needs we're looking to have more annual member users rather than casual users, so it'd be good to consider how consistent the users are, through the time data and compare member users with casual users. \n",
    "\n",
    "For this reason, we're going to be considering the time columns and geolocation (long, lat) and disregard the location ones, besides this, as shown above in the previous line of code, there are over 900 station names so there isn't a pattern that can be easily identified from that data.\n",
    "\n",
    "And at the same time, regardless of the location, the user still wants to use the service for transportation, easy-to-use, money-saving and environmental reasons."
   ]
  },
  {
   "cell_type": "code",
   "execution_count": 14,
   "id": "916729ce-5ba4-440f-b277-801bfc0d929d",
   "metadata": {},
   "outputs": [
    {
     "data": {
      "text/plain": [
       "rideable_type      0\n",
       "started_at         0\n",
       "ended_at           0\n",
       "start_lat          0\n",
       "start_lng          0\n",
       "end_lat          183\n",
       "end_lng          183\n",
       "member_casual      0\n",
       "dtype: int64"
      ]
     },
     "execution_count": 14,
     "metadata": {},
     "output_type": "execute_result"
    }
   ],
   "source": [
    "# Removing all NaN columns (columns with the location/stations data):\n",
    "df_bikes.drop(columns=[\"ride_id\", \"start_station_name\",\"start_station_id\",\"end_station_name\", \"end_station_id\"], inplace = True) \n",
    "# The ride ID is not a necessary feature in which our results may depend or vary\n",
    "df_bikes.isna().sum()"
   ]
  },
  {
   "cell_type": "code",
   "execution_count": 15,
   "id": "4e93318d-afa6-4e3a-902f-a75e77b79223",
   "metadata": {},
   "outputs": [
    {
     "data": {
      "text/plain": [
       "rideable_type    0\n",
       "started_at       0\n",
       "ended_at         0\n",
       "start_lat        0\n",
       "start_lng        0\n",
       "end_lat          0\n",
       "end_lng          0\n",
       "member_casual    0\n",
       "dtype: int64"
      ]
     },
     "execution_count": 15,
     "metadata": {},
     "output_type": "execute_result"
    }
   ],
   "source": [
    "# Having few NaN values for the ending latitude and longitude, let's replace them for the mean, rather than dropping them,\n",
    "# since the rest of the information is available and could be useful to check:\n",
    "df_bikes[\"end_lat\"].fillna(value=df_bikes[\"end_lat\"].mean(), inplace = True)\n",
    "df_bikes[\"end_lng\"].fillna(value=df_bikes[\"end_lng\"].mean(), inplace = True)\n",
    "df_bikes.isna().sum() # Double checking if there is still a NaN value in any of the columns"
   ]
  },
  {
   "cell_type": "code",
   "execution_count": 16,
   "id": "3d5b8987-9e73-4a94-95af-0b9d22ea5c6c",
   "metadata": {},
   "outputs": [
    {
     "data": {
      "text/html": [
       "<div>\n",
       "<style scoped>\n",
       "    .dataframe tbody tr th:only-of-type {\n",
       "        vertical-align: middle;\n",
       "    }\n",
       "\n",
       "    .dataframe tbody tr th {\n",
       "        vertical-align: top;\n",
       "    }\n",
       "\n",
       "    .dataframe thead th {\n",
       "        text-align: right;\n",
       "    }\n",
       "</style>\n",
       "<table border=\"1\" class=\"dataframe\">\n",
       "  <thead>\n",
       "    <tr style=\"text-align: right;\">\n",
       "      <th></th>\n",
       "      <th>rideable_type</th>\n",
       "      <th>started_at</th>\n",
       "      <th>ended_at</th>\n",
       "      <th>start_lat</th>\n",
       "      <th>start_lng</th>\n",
       "      <th>end_lat</th>\n",
       "      <th>end_lng</th>\n",
       "      <th>member_casual</th>\n",
       "    </tr>\n",
       "  </thead>\n",
       "  <tbody>\n",
       "    <tr>\n",
       "      <th>0</th>\n",
       "      <td>electric_bike</td>\n",
       "      <td>2023-03-16 08:20:34</td>\n",
       "      <td>2023-03-16 08:22:52</td>\n",
       "      <td>41.918413</td>\n",
       "      <td>-87.636451</td>\n",
       "      <td>41.921822</td>\n",
       "      <td>-87.64414</td>\n",
       "      <td>member</td>\n",
       "    </tr>\n",
       "    <tr>\n",
       "      <th>1</th>\n",
       "      <td>electric_bike</td>\n",
       "      <td>2023-03-04 14:07:06</td>\n",
       "      <td>2023-03-04 14:15:31</td>\n",
       "      <td>41.970000</td>\n",
       "      <td>-87.710000</td>\n",
       "      <td>41.950000</td>\n",
       "      <td>-87.71000</td>\n",
       "      <td>member</td>\n",
       "    </tr>\n",
       "    <tr>\n",
       "      <th>2</th>\n",
       "      <td>classic_bike</td>\n",
       "      <td>2023-03-31 12:28:09</td>\n",
       "      <td>2023-03-31 12:38:47</td>\n",
       "      <td>41.898203</td>\n",
       "      <td>-87.637536</td>\n",
       "      <td>41.884576</td>\n",
       "      <td>-87.63189</td>\n",
       "      <td>member</td>\n",
       "    </tr>\n",
       "  </tbody>\n",
       "</table>\n",
       "</div>"
      ],
      "text/plain": [
       "   rideable_type          started_at            ended_at  start_lat  \\\n",
       "0  electric_bike 2023-03-16 08:20:34 2023-03-16 08:22:52  41.918413   \n",
       "1  electric_bike 2023-03-04 14:07:06 2023-03-04 14:15:31  41.970000   \n",
       "2   classic_bike 2023-03-31 12:28:09 2023-03-31 12:38:47  41.898203   \n",
       "\n",
       "   start_lng    end_lat   end_lng member_casual  \n",
       "0 -87.636451  41.921822 -87.64414        member  \n",
       "1 -87.710000  41.950000 -87.71000        member  \n",
       "2 -87.637536  41.884576 -87.63189        member  "
      ]
     },
     "execution_count": 16,
     "metadata": {},
     "output_type": "execute_result"
    }
   ],
   "source": [
    "df_bikes.head(3) # All okay ✅"
   ]
  },
  {
   "cell_type": "markdown",
   "id": "ebfe7618-cdbc-497e-b872-e7977a8bebc7",
   "metadata": {},
   "source": [
    "We can now take a deeper look into the user's preference when it comes to the type of bike and how much time they spend using the service.\n",
    "\n",
    "First, we're going to deal with the time length spent on each ride by the users:"
   ]
  },
  {
   "cell_type": "code",
   "execution_count": 17,
   "id": "9e29aee2-267d-416e-82a5-13ea2d715eba",
   "metadata": {},
   "outputs": [
    {
     "data": {
      "text/html": [
       "<div>\n",
       "<style scoped>\n",
       "    .dataframe tbody tr th:only-of-type {\n",
       "        vertical-align: middle;\n",
       "    }\n",
       "\n",
       "    .dataframe tbody tr th {\n",
       "        vertical-align: top;\n",
       "    }\n",
       "\n",
       "    .dataframe thead th {\n",
       "        text-align: right;\n",
       "    }\n",
       "</style>\n",
       "<table border=\"1\" class=\"dataframe\">\n",
       "  <thead>\n",
       "    <tr style=\"text-align: right;\">\n",
       "      <th></th>\n",
       "      <th>rideable_type</th>\n",
       "      <th>started_at</th>\n",
       "      <th>ended_at</th>\n",
       "      <th>start_lat</th>\n",
       "      <th>start_lng</th>\n",
       "      <th>end_lat</th>\n",
       "      <th>end_lng</th>\n",
       "      <th>member_casual</th>\n",
       "      <th>time_length</th>\n",
       "    </tr>\n",
       "  </thead>\n",
       "  <tbody>\n",
       "    <tr>\n",
       "      <th>0</th>\n",
       "      <td>electric_bike</td>\n",
       "      <td>2023-03-16 08:20:34</td>\n",
       "      <td>2023-03-16 08:22:52</td>\n",
       "      <td>41.918413</td>\n",
       "      <td>-87.636451</td>\n",
       "      <td>41.921822</td>\n",
       "      <td>-87.644140</td>\n",
       "      <td>member</td>\n",
       "      <td>0 days 00:02:18</td>\n",
       "    </tr>\n",
       "    <tr>\n",
       "      <th>1</th>\n",
       "      <td>electric_bike</td>\n",
       "      <td>2023-03-04 14:07:06</td>\n",
       "      <td>2023-03-04 14:15:31</td>\n",
       "      <td>41.970000</td>\n",
       "      <td>-87.710000</td>\n",
       "      <td>41.950000</td>\n",
       "      <td>-87.710000</td>\n",
       "      <td>member</td>\n",
       "      <td>0 days 00:08:25</td>\n",
       "    </tr>\n",
       "    <tr>\n",
       "      <th>2</th>\n",
       "      <td>classic_bike</td>\n",
       "      <td>2023-03-31 12:28:09</td>\n",
       "      <td>2023-03-31 12:38:47</td>\n",
       "      <td>41.898203</td>\n",
       "      <td>-87.637536</td>\n",
       "      <td>41.884576</td>\n",
       "      <td>-87.631890</td>\n",
       "      <td>member</td>\n",
       "      <td>0 days 00:10:38</td>\n",
       "    </tr>\n",
       "    <tr>\n",
       "      <th>3</th>\n",
       "      <td>classic_bike</td>\n",
       "      <td>2023-03-22 14:09:08</td>\n",
       "      <td>2023-03-22 14:24:51</td>\n",
       "      <td>41.888716</td>\n",
       "      <td>-87.644448</td>\n",
       "      <td>41.910522</td>\n",
       "      <td>-87.653106</td>\n",
       "      <td>member</td>\n",
       "      <td>0 days 00:15:43</td>\n",
       "    </tr>\n",
       "    <tr>\n",
       "      <th>4</th>\n",
       "      <td>electric_bike</td>\n",
       "      <td>2023-03-09 07:15:00</td>\n",
       "      <td>2023-03-09 07:26:00</td>\n",
       "      <td>41.914480</td>\n",
       "      <td>-87.668013</td>\n",
       "      <td>41.885779</td>\n",
       "      <td>-87.651025</td>\n",
       "      <td>member</td>\n",
       "      <td>0 days 00:11:00</td>\n",
       "    </tr>\n",
       "    <tr>\n",
       "      <th>...</th>\n",
       "      <td>...</td>\n",
       "      <td>...</td>\n",
       "      <td>...</td>\n",
       "      <td>...</td>\n",
       "      <td>...</td>\n",
       "      <td>...</td>\n",
       "      <td>...</td>\n",
       "      <td>...</td>\n",
       "      <td>...</td>\n",
       "    </tr>\n",
       "    <tr>\n",
       "      <th>258673</th>\n",
       "      <td>electric_bike</td>\n",
       "      <td>2023-03-08 00:00:02</td>\n",
       "      <td>2023-03-08 00:06:25</td>\n",
       "      <td>41.890202</td>\n",
       "      <td>-87.626232</td>\n",
       "      <td>41.879255</td>\n",
       "      <td>-87.639904</td>\n",
       "      <td>member</td>\n",
       "      <td>0 days 00:06:23</td>\n",
       "    </tr>\n",
       "    <tr>\n",
       "      <th>258674</th>\n",
       "      <td>classic_bike</td>\n",
       "      <td>2023-03-21 14:24:42</td>\n",
       "      <td>2023-03-21 14:50:45</td>\n",
       "      <td>41.961670</td>\n",
       "      <td>-87.654640</td>\n",
       "      <td>41.958494</td>\n",
       "      <td>-87.654966</td>\n",
       "      <td>member</td>\n",
       "      <td>0 days 00:26:03</td>\n",
       "    </tr>\n",
       "    <tr>\n",
       "      <th>258675</th>\n",
       "      <td>electric_bike</td>\n",
       "      <td>2023-03-21 16:48:52</td>\n",
       "      <td>2023-03-21 16:51:27</td>\n",
       "      <td>41.943681</td>\n",
       "      <td>-87.648830</td>\n",
       "      <td>41.949074</td>\n",
       "      <td>-87.648636</td>\n",
       "      <td>member</td>\n",
       "      <td>0 days 00:02:35</td>\n",
       "    </tr>\n",
       "    <tr>\n",
       "      <th>258676</th>\n",
       "      <td>classic_bike</td>\n",
       "      <td>2023-03-16 20:36:05</td>\n",
       "      <td>2023-03-16 20:43:11</td>\n",
       "      <td>41.961670</td>\n",
       "      <td>-87.654640</td>\n",
       "      <td>41.949074</td>\n",
       "      <td>-87.648636</td>\n",
       "      <td>member</td>\n",
       "      <td>0 days 00:07:06</td>\n",
       "    </tr>\n",
       "    <tr>\n",
       "      <th>258677</th>\n",
       "      <td>electric_bike</td>\n",
       "      <td>2023-03-27 19:58:08</td>\n",
       "      <td>2023-03-27 20:03:52</td>\n",
       "      <td>41.936490</td>\n",
       "      <td>-87.647581</td>\n",
       "      <td>41.949074</td>\n",
       "      <td>-87.648636</td>\n",
       "      <td>member</td>\n",
       "      <td>0 days 00:05:44</td>\n",
       "    </tr>\n",
       "  </tbody>\n",
       "</table>\n",
       "<p>258678 rows × 9 columns</p>\n",
       "</div>"
      ],
      "text/plain": [
       "        rideable_type          started_at            ended_at  start_lat  \\\n",
       "0       electric_bike 2023-03-16 08:20:34 2023-03-16 08:22:52  41.918413   \n",
       "1       electric_bike 2023-03-04 14:07:06 2023-03-04 14:15:31  41.970000   \n",
       "2        classic_bike 2023-03-31 12:28:09 2023-03-31 12:38:47  41.898203   \n",
       "3        classic_bike 2023-03-22 14:09:08 2023-03-22 14:24:51  41.888716   \n",
       "4       electric_bike 2023-03-09 07:15:00 2023-03-09 07:26:00  41.914480   \n",
       "...               ...                 ...                 ...        ...   \n",
       "258673  electric_bike 2023-03-08 00:00:02 2023-03-08 00:06:25  41.890202   \n",
       "258674   classic_bike 2023-03-21 14:24:42 2023-03-21 14:50:45  41.961670   \n",
       "258675  electric_bike 2023-03-21 16:48:52 2023-03-21 16:51:27  41.943681   \n",
       "258676   classic_bike 2023-03-16 20:36:05 2023-03-16 20:43:11  41.961670   \n",
       "258677  electric_bike 2023-03-27 19:58:08 2023-03-27 20:03:52  41.936490   \n",
       "\n",
       "        start_lng    end_lat    end_lng member_casual     time_length  \n",
       "0      -87.636451  41.921822 -87.644140        member 0 days 00:02:18  \n",
       "1      -87.710000  41.950000 -87.710000        member 0 days 00:08:25  \n",
       "2      -87.637536  41.884576 -87.631890        member 0 days 00:10:38  \n",
       "3      -87.644448  41.910522 -87.653106        member 0 days 00:15:43  \n",
       "4      -87.668013  41.885779 -87.651025        member 0 days 00:11:00  \n",
       "...           ...        ...        ...           ...             ...  \n",
       "258673 -87.626232  41.879255 -87.639904        member 0 days 00:06:23  \n",
       "258674 -87.654640  41.958494 -87.654966        member 0 days 00:26:03  \n",
       "258675 -87.648830  41.949074 -87.648636        member 0 days 00:02:35  \n",
       "258676 -87.654640  41.949074 -87.648636        member 0 days 00:07:06  \n",
       "258677 -87.647581  41.949074 -87.648636        member 0 days 00:05:44  \n",
       "\n",
       "[258678 rows x 9 columns]"
      ]
     },
     "execution_count": 17,
     "metadata": {},
     "output_type": "execute_result"
    }
   ],
   "source": [
    "# Calculating the time spent (ride) by the user:\n",
    "df_bikes[\"time_length\"] = df_bikes[\"ended_at\"]-df_bikes[\"started_at\"]\n",
    "df_bikes"
   ]
  },
  {
   "cell_type": "code",
   "execution_count": 18,
   "id": "9955a765-d973-4c07-98e4-bbc94e84dae3",
   "metadata": {},
   "outputs": [
    {
     "data": {
      "text/plain": [
       "rideable_type             object\n",
       "started_at        datetime64[ns]\n",
       "ended_at          datetime64[ns]\n",
       "start_lat                float64\n",
       "start_lng                float64\n",
       "end_lat                  float64\n",
       "end_lng                  float64\n",
       "member_casual             object\n",
       "time_length      timedelta64[ns]\n",
       "dtype: object"
      ]
     },
     "execution_count": 18,
     "metadata": {},
     "output_type": "execute_result"
    }
   ],
   "source": [
    "df_bikes.dtypes"
   ]
  },
  {
   "cell_type": "code",
   "execution_count": 19,
   "id": "721e53e8-926a-4db1-8d2f-b3a6905c1307",
   "metadata": {},
   "outputs": [
    {
     "data": {
      "text/plain": [
       "count                       258678\n",
       "mean     0 days 00:13:04.803017651\n",
       "std      0 days 01:38:11.450462766\n",
       "min                0 days 00:00:00\n",
       "25%                0 days 00:04:26\n",
       "50%                0 days 00:07:30\n",
       "75%                0 days 00:12:50\n",
       "max               11 days 16:08:04\n",
       "Name: time_length, dtype: object"
      ]
     },
     "execution_count": 19,
     "metadata": {},
     "output_type": "execute_result"
    }
   ],
   "source": [
    "# Analyzing what we got above:\n",
    "df_bikes[\"time_length\"].describe()"
   ]
  },
  {
   "attachments": {},
   "cell_type": "markdown",
   "id": "0017dcf4",
   "metadata": {},
   "source": [
    "We can check time stats so far by the type of Cyclistic's costumer and also by type of bike:"
   ]
  },
  {
   "cell_type": "code",
   "execution_count": 20,
   "id": "078e3541",
   "metadata": {},
   "outputs": [
    {
     "data": {
      "text/plain": [
       "count                       196477\n",
       "mean     0 days 00:10:26.533273614\n",
       "std      0 days 00:26:47.888020927\n",
       "min                0 days 00:00:00\n",
       "25%                0 days 00:04:15\n",
       "50%                0 days 00:07:09\n",
       "75%                0 days 00:12:07\n",
       "max                1 days 01:59:40\n",
       "Name: time_length, dtype: object"
      ]
     },
     "execution_count": 20,
     "metadata": {},
     "output_type": "execute_result"
    }
   ],
   "source": [
    "# For comparison, we can see the time_length stats as well for the annual customers only: \n",
    "df_bikes[\"time_length\"][df_bikes[\"member_casual\"] == \"member\"].describe()"
   ]
  },
  {
   "cell_type": "code",
   "execution_count": 22,
   "id": "6ac7f7f4",
   "metadata": {},
   "outputs": [
    {
     "data": {
      "text/plain": [
       "count                        62201\n",
       "mean     0 days 00:21:24.736531567\n",
       "std      0 days 03:14:15.595562775\n",
       "min                0 days 00:00:00\n",
       "25%                0 days 00:05:08\n",
       "50%                0 days 00:08:40\n",
       "75%                0 days 00:15:31\n",
       "max               11 days 16:08:04\n",
       "Name: time_length, dtype: object"
      ]
     },
     "execution_count": 22,
     "metadata": {},
     "output_type": "execute_result"
    }
   ],
   "source": [
    "# For comparison, we can see the time_length stats as well for the casual customers only:\n",
    "df_bikes[\"time_length\"][df_bikes[\"member_casual\"] == \"casual\"].describe()"
   ]
  },
  {
   "cell_type": "code",
   "execution_count": 24,
   "id": "97ed7fdf",
   "metadata": {},
   "outputs": [
    {
     "data": {
      "text/plain": [
       "count                       148575\n",
       "mean     0 days 00:09:46.513498233\n",
       "std      0 days 00:13:38.111896469\n",
       "min                0 days 00:00:00\n",
       "25%                0 days 00:04:10\n",
       "50%                0 days 00:06:58\n",
       "75%                0 days 00:11:39\n",
       "max                0 days 08:00:27\n",
       "Name: time_length, dtype: object"
      ]
     },
     "execution_count": 24,
     "metadata": {},
     "output_type": "execute_result"
    }
   ],
   "source": [
    "# In order to compare with the numbers that we have in our dataframe, we can see the time lenght stats for the 3 types of bike: \n",
    "df_bikes[\"time_length\"][df_bikes[\"rideable_type\"] == \"electric_bike\"].describe()"
   ]
  },
  {
   "cell_type": "code",
   "execution_count": 26,
   "id": "8b8be33f",
   "metadata": {},
   "outputs": [
    {
     "data": {
      "text/plain": [
       "count                       107083\n",
       "mean     0 days 00:14:18.057095897\n",
       "std      0 days 00:56:54.949169450\n",
       "min                0 days 00:00:00\n",
       "25%                0 days 00:04:46\n",
       "50%                0 days 00:08:09\n",
       "75%                0 days 00:14:13\n",
       "max                1 days 01:59:56\n",
       "Name: time_length, dtype: object"
      ]
     },
     "execution_count": 26,
     "metadata": {},
     "output_type": "execute_result"
    }
   ],
   "source": [
    "df_bikes[\"time_length\"][df_bikes[\"rideable_type\"] == \"classic_bike\"].describe()"
   ]
  },
  {
   "cell_type": "code",
   "execution_count": 25,
   "id": "2f2f70c6",
   "metadata": {},
   "outputs": [
    {
     "data": {
      "text/plain": [
       "count                         3020\n",
       "mean     0 days 02:12:22.617218543\n",
       "std      0 days 13:48:59.653208757\n",
       "min                0 days 00:00:05\n",
       "25%                0 days 00:12:06\n",
       "50%                0 days 00:21:31\n",
       "75%         0 days 00:38:14.500000\n",
       "max               11 days 16:08:04\n",
       "Name: time_length, dtype: object"
      ]
     },
     "execution_count": 25,
     "metadata": {},
     "output_type": "execute_result"
    }
   ],
   "source": [
    "df_bikes[\"time_length\"][df_bikes[\"rideable_type\"] == \"docked_bike\"].describe()"
   ]
  },
  {
   "attachments": {},
   "cell_type": "markdown",
   "id": "b58b4e2a",
   "metadata": {},
   "source": [
    "We can infere from this very quickly that the docked bike takes longer than the classic bike. Being the electric the fastest with a mean of 14 minutes of time length in their trips."
   ]
  },
  {
   "cell_type": "code",
   "execution_count": 60,
   "id": "f29a4fcb",
   "metadata": {},
   "outputs": [
    {
     "data": {
      "text/html": [
       "<div>\n",
       "<style scoped>\n",
       "    .dataframe tbody tr th:only-of-type {\n",
       "        vertical-align: middle;\n",
       "    }\n",
       "\n",
       "    .dataframe tbody tr th {\n",
       "        vertical-align: top;\n",
       "    }\n",
       "\n",
       "    .dataframe thead th {\n",
       "        text-align: right;\n",
       "    }\n",
       "</style>\n",
       "<table border=\"1\" class=\"dataframe\">\n",
       "  <thead>\n",
       "    <tr style=\"text-align: right;\">\n",
       "      <th></th>\n",
       "      <th>start_lat</th>\n",
       "      <th>start_lng</th>\n",
       "      <th>end_lat</th>\n",
       "      <th>end_lng</th>\n",
       "      <th>time_length</th>\n",
       "    </tr>\n",
       "  </thead>\n",
       "  <tbody>\n",
       "    <tr>\n",
       "      <th>count</th>\n",
       "      <td>62201.000000</td>\n",
       "      <td>62201.000000</td>\n",
       "      <td>62201.000000</td>\n",
       "      <td>62201.000000</td>\n",
       "      <td>62201</td>\n",
       "    </tr>\n",
       "    <tr>\n",
       "      <th>mean</th>\n",
       "      <td>41.900174</td>\n",
       "      <td>-87.650366</td>\n",
       "      <td>41.900803</td>\n",
       "      <td>-87.650720</td>\n",
       "      <td>0 days 00:21:24.736531567</td>\n",
       "    </tr>\n",
       "    <tr>\n",
       "      <th>std</th>\n",
       "      <td>0.048452</td>\n",
       "      <td>0.032138</td>\n",
       "      <td>0.048488</td>\n",
       "      <td>0.032233</td>\n",
       "      <td>0 days 03:14:15.595562775</td>\n",
       "    </tr>\n",
       "    <tr>\n",
       "      <th>min</th>\n",
       "      <td>41.648501</td>\n",
       "      <td>-87.830000</td>\n",
       "      <td>41.630000</td>\n",
       "      <td>-87.850000</td>\n",
       "      <td>0 days 00:00:00</td>\n",
       "    </tr>\n",
       "    <tr>\n",
       "      <th>25%</th>\n",
       "      <td>41.880000</td>\n",
       "      <td>-87.667435</td>\n",
       "      <td>41.880317</td>\n",
       "      <td>-87.667747</td>\n",
       "      <td>0 days 00:05:08</td>\n",
       "    </tr>\n",
       "    <tr>\n",
       "      <th>50%</th>\n",
       "      <td>41.895696</td>\n",
       "      <td>-87.645361</td>\n",
       "      <td>41.896617</td>\n",
       "      <td>-87.646453</td>\n",
       "      <td>0 days 00:08:40</td>\n",
       "    </tr>\n",
       "    <tr>\n",
       "      <th>75%</th>\n",
       "      <td>41.929426</td>\n",
       "      <td>-87.629767</td>\n",
       "      <td>41.929567</td>\n",
       "      <td>-87.629912</td>\n",
       "      <td>0 days 00:15:31</td>\n",
       "    </tr>\n",
       "    <tr>\n",
       "      <th>max</th>\n",
       "      <td>42.070000</td>\n",
       "      <td>-87.528232</td>\n",
       "      <td>42.080000</td>\n",
       "      <td>-87.520000</td>\n",
       "      <td>11 days 16:08:04</td>\n",
       "    </tr>\n",
       "  </tbody>\n",
       "</table>\n",
       "</div>"
      ],
      "text/plain": [
       "          start_lat     start_lng       end_lat       end_lng  \\\n",
       "count  62201.000000  62201.000000  62201.000000  62201.000000   \n",
       "mean      41.900174    -87.650366     41.900803    -87.650720   \n",
       "std        0.048452      0.032138      0.048488      0.032233   \n",
       "min       41.648501    -87.830000     41.630000    -87.850000   \n",
       "25%       41.880000    -87.667435     41.880317    -87.667747   \n",
       "50%       41.895696    -87.645361     41.896617    -87.646453   \n",
       "75%       41.929426    -87.629767     41.929567    -87.629912   \n",
       "max       42.070000    -87.528232     42.080000    -87.520000   \n",
       "\n",
       "                     time_length  \n",
       "count                      62201  \n",
       "mean   0 days 00:21:24.736531567  \n",
       "std    0 days 03:14:15.595562775  \n",
       "min              0 days 00:00:00  \n",
       "25%              0 days 00:05:08  \n",
       "50%              0 days 00:08:40  \n",
       "75%              0 days 00:15:31  \n",
       "max             11 days 16:08:04  "
      ]
     },
     "execution_count": 60,
     "metadata": {},
     "output_type": "execute_result"
    }
   ],
   "source": [
    "# In general, we have:\n",
    "df_bikes[df_bikes[\"member_casual\"]==\"casual\"].describe()"
   ]
  },
  {
   "attachments": {},
   "cell_type": "markdown",
   "id": "20149fec-00bd-4528-a55f-68422c48c96b",
   "metadata": {},
   "source": [
    "We can see a maximum of 11 days and over 16 hours and a minimum of 0 hours. The mean of the time spent by users in Cyclistic's service is 21 minutes."
   ]
  },
  {
   "cell_type": "markdown",
   "id": "ffc6586b-8b29-4f8e-a47a-0ea571871981",
   "metadata": {},
   "source": [
    "Now that we know the time length for each ride, we're going to get these values in the same unit, that is, in minutes."
   ]
  },
  {
   "cell_type": "code",
   "execution_count": 20,
   "id": "1c2bc02f-229b-40c5-8398-8a274a7d843e",
   "metadata": {
    "tags": []
   },
   "outputs": [],
   "source": [
    "df_bikes[\"time_length (min)\"]=df_bikes[\"time_length\"].dt.total_seconds()/60\n",
    "# These results make all sense: ((11days*24h)+16h)*60m= ~16800 minutes\n",
    "\n",
    "# Dropping the previous columns with no unit transformation:\n",
    "df_bikes.drop(columns = [\"time_length\", \"started_at\", \"ended_at\"], inplace=True)"
   ]
  },
  {
   "attachments": {},
   "cell_type": "markdown",
   "id": "33c8de25-6d34-47ca-8793-2373d0d41883",
   "metadata": {},
   "source": [
    "Now we're going to be dealing with the geolocation, having the starting and ending lat and long data, we're going to obtain the total distance for each ride."
   ]
  },
  {
   "attachments": {},
   "cell_type": "markdown",
   "id": "861f22c4-6014-4e29-b41f-e9e69ae0a321",
   "metadata": {},
   "source": [
    "#### Transforming lat and long data to traveled distance by the user.\n",
    "For this, we'll be considering the geopy library since it implements more accurate ellipsoidal models (such as WGS-84).\n"
   ]
  },
  {
   "cell_type": "code",
   "execution_count": 21,
   "id": "af51eb2a-d48a-4088-95c5-1092501dd4a3",
   "metadata": {},
   "outputs": [
    {
     "data": {
      "text/plain": [
       "[Distance(0.7417368531814638),\n",
       " Distance(2.221450138584198),\n",
       " Distance(1.584415649104751)]"
      ]
     },
     "execution_count": 21,
     "metadata": {},
     "output_type": "execute_result"
    }
   ],
   "source": [
    "# Getting the points in pairs:\n",
    "distance = []\n",
    "for i in range(len(df_bikes[\"start_lat\"])):\n",
    "    # distance.append(geopy.distance.geodesic((x1,y1), (x2,y2))\n",
    "    distance.append(geopy.distance.geodesic((df_bikes[\"start_lat\"][i], df_bikes[\"start_lng\"][i]), (df_bikes[\"end_lat\"][i], df_bikes[\"end_lng\"][i])))\n",
    "    \n",
    "distance[:3]"
   ]
  },
  {
   "cell_type": "code",
   "execution_count": 22,
   "id": "eeb1e469",
   "metadata": {},
   "outputs": [],
   "source": [
    "# Setting the distance list as a dataframe and assinging it as a column to the df_bikes dataframe:\n",
    "df_bikes[\"distance (km)\"] = pd.DataFrame(distance)"
   ]
  },
  {
   "cell_type": "code",
   "execution_count": 23,
   "id": "87bc84c2",
   "metadata": {},
   "outputs": [],
   "source": [
    "# Removing the 'km' unit word (strings) in the distance list:\n",
    "df_bikes[\"distance (km)\"] = pd.to_numeric(df_bikes[\"distance (km)\"].astype(str).str.replace(\" km\", ''))\n",
    "# An alternative: df['col'] = pd.to_numeric(df['col'].astype(str).str[:-1], errors='coerce')"
   ]
  },
  {
   "cell_type": "code",
   "execution_count": 24,
   "id": "4d899696",
   "metadata": {},
   "outputs": [],
   "source": [
    "# Now that we have the distance we can drop the longitude and latitude columns:\n",
    "df_bikes.drop(columns = [\"start_lat\", \"start_lng\", \"end_lat\", \"end_lng\"], inplace=True)"
   ]
  },
  {
   "cell_type": "code",
   "execution_count": 25,
   "id": "735462ca",
   "metadata": {},
   "outputs": [
    {
     "data": {
      "text/plain": [
       "rideable_type         object\n",
       "member_casual         object\n",
       "time_length (min)    float64\n",
       "distance (km)        float64\n",
       "dtype: object"
      ]
     },
     "execution_count": 25,
     "metadata": {},
     "output_type": "execute_result"
    }
   ],
   "source": [
    "# Double checking data types to make sure that makes sense \n",
    "df_bikes.dtypes"
   ]
  },
  {
   "cell_type": "code",
   "execution_count": 26,
   "id": "5781a048",
   "metadata": {},
   "outputs": [
    {
     "name": "stdout",
     "output_type": "stream",
     "text": [
      "count    258678.000000\n",
      "mean          1.830620\n",
      "std           1.673200\n",
      "min           0.000000\n",
      "25%           0.807003\n",
      "50%           1.356842\n",
      "75%           2.345643\n",
      "max          23.725628\n",
      "Name: distance (km), dtype: float64\n"
     ]
    },
    {
     "data": {
      "text/html": [
       "<div>\n",
       "<style scoped>\n",
       "    .dataframe tbody tr th:only-of-type {\n",
       "        vertical-align: middle;\n",
       "    }\n",
       "\n",
       "    .dataframe tbody tr th {\n",
       "        vertical-align: top;\n",
       "    }\n",
       "\n",
       "    .dataframe thead th {\n",
       "        text-align: right;\n",
       "    }\n",
       "</style>\n",
       "<table border=\"1\" class=\"dataframe\">\n",
       "  <thead>\n",
       "    <tr style=\"text-align: right;\">\n",
       "      <th></th>\n",
       "      <th>rideable_type</th>\n",
       "      <th>member_casual</th>\n",
       "      <th>time_length (min)</th>\n",
       "      <th>distance (km)</th>\n",
       "    </tr>\n",
       "  </thead>\n",
       "  <tbody>\n",
       "    <tr>\n",
       "      <th>0</th>\n",
       "      <td>electric_bike</td>\n",
       "      <td>member</td>\n",
       "      <td>2.300000</td>\n",
       "      <td>0.741737</td>\n",
       "    </tr>\n",
       "    <tr>\n",
       "      <th>1</th>\n",
       "      <td>electric_bike</td>\n",
       "      <td>member</td>\n",
       "      <td>8.416667</td>\n",
       "      <td>2.221450</td>\n",
       "    </tr>\n",
       "    <tr>\n",
       "      <th>2</th>\n",
       "      <td>classic_bike</td>\n",
       "      <td>member</td>\n",
       "      <td>10.633333</td>\n",
       "      <td>1.584416</td>\n",
       "    </tr>\n",
       "    <tr>\n",
       "      <th>3</th>\n",
       "      <td>classic_bike</td>\n",
       "      <td>member</td>\n",
       "      <td>15.716667</td>\n",
       "      <td>2.526332</td>\n",
       "    </tr>\n",
       "    <tr>\n",
       "      <th>4</th>\n",
       "      <td>electric_bike</td>\n",
       "      <td>member</td>\n",
       "      <td>11.000000</td>\n",
       "      <td>3.485600</td>\n",
       "    </tr>\n",
       "    <tr>\n",
       "      <th>...</th>\n",
       "      <td>...</td>\n",
       "      <td>...</td>\n",
       "      <td>...</td>\n",
       "      <td>...</td>\n",
       "    </tr>\n",
       "    <tr>\n",
       "      <th>258673</th>\n",
       "      <td>electric_bike</td>\n",
       "      <td>member</td>\n",
       "      <td>6.383333</td>\n",
       "      <td>1.663205</td>\n",
       "    </tr>\n",
       "    <tr>\n",
       "      <th>258674</th>\n",
       "      <td>classic_bike</td>\n",
       "      <td>member</td>\n",
       "      <td>26.050000</td>\n",
       "      <td>0.353800</td>\n",
       "    </tr>\n",
       "    <tr>\n",
       "      <th>258675</th>\n",
       "      <td>electric_bike</td>\n",
       "      <td>member</td>\n",
       "      <td>2.583333</td>\n",
       "      <td>0.599241</td>\n",
       "    </tr>\n",
       "    <tr>\n",
       "      <th>258676</th>\n",
       "      <td>classic_bike</td>\n",
       "      <td>member</td>\n",
       "      <td>7.100000</td>\n",
       "      <td>1.484985</td>\n",
       "    </tr>\n",
       "    <tr>\n",
       "      <th>258677</th>\n",
       "      <td>electric_bike</td>\n",
       "      <td>member</td>\n",
       "      <td>5.733333</td>\n",
       "      <td>1.400513</td>\n",
       "    </tr>\n",
       "  </tbody>\n",
       "</table>\n",
       "<p>258678 rows × 4 columns</p>\n",
       "</div>"
      ],
      "text/plain": [
       "        rideable_type member_casual  time_length (min)  distance (km)\n",
       "0       electric_bike        member           2.300000       0.741737\n",
       "1       electric_bike        member           8.416667       2.221450\n",
       "2        classic_bike        member          10.633333       1.584416\n",
       "3        classic_bike        member          15.716667       2.526332\n",
       "4       electric_bike        member          11.000000       3.485600\n",
       "...               ...           ...                ...            ...\n",
       "258673  electric_bike        member           6.383333       1.663205\n",
       "258674   classic_bike        member          26.050000       0.353800\n",
       "258675  electric_bike        member           2.583333       0.599241\n",
       "258676   classic_bike        member           7.100000       1.484985\n",
       "258677  electric_bike        member           5.733333       1.400513\n",
       "\n",
       "[258678 rows x 4 columns]"
      ]
     },
     "execution_count": 26,
     "metadata": {},
     "output_type": "execute_result"
    }
   ],
   "source": [
    "# Getting basic statistics from the distance column:\n",
    "print(df_bikes[\"distance (km)\"].describe())\n",
    "df_bikes"
   ]
  },
  {
   "attachments": {},
   "cell_type": "markdown",
   "id": "d44e6966",
   "metadata": {},
   "source": [
    "We can see that the minimum distance traveled is 0.0 km, the maximum is 23.73 km and on average, users traveled around 1.83 km. We'll be seeing now the relationship between all these features."
   ]
  },
  {
   "cell_type": "code",
   "execution_count": 27,
   "id": "efb3e5d8",
   "metadata": {},
   "outputs": [
    {
     "data": {
      "image/png": "[encoded data removed]",
      "text/plain": [
       "<Figure size 640x480 with 1 Axes>"
      ]
     },
     "metadata": {},
     "output_type": "display_data"
    }
   ],
   "source": [
    "# Analyzing the distance feature:\n",
    "\n",
    "plt.hist(df_bikes[\"distance (km)\"], bins = 15)\n",
    "plt.xticks(np.arange(0, 24, 2))\n",
    "plt.title(\"Frequency of distance traveled by users\")\n",
    "plt.xlabel(\"Distance traveled (km)\")\n",
    "plt.ylabel(\"Frequency\")\n",
    "plt.show()"
   ]
  },
  {
   "attachments": {},
   "cell_type": "markdown",
   "id": "9b90e1e9",
   "metadata": {},
   "source": [
    "We can tell the majority of users **have a traveled distance of around 2 km**, this can be confirmed in the mean obtained ran in the previous piece of code.\n",
    "\n",
    "Now for the other features we're going the get the histogram as well, see the behaviour and explore more graphs to analyze."
   ]
  },
  {
   "cell_type": "code",
   "execution_count": 28,
   "id": "b8857b54",
   "metadata": {},
   "outputs": [
    {
     "data": {
      "text/html": [
       "<div>\n",
       "<style scoped>\n",
       "    .dataframe tbody tr th:only-of-type {\n",
       "        vertical-align: middle;\n",
       "    }\n",
       "\n",
       "    .dataframe tbody tr th {\n",
       "        vertical-align: top;\n",
       "    }\n",
       "\n",
       "    .dataframe thead th {\n",
       "        text-align: right;\n",
       "    }\n",
       "</style>\n",
       "<table border=\"1\" class=\"dataframe\">\n",
       "  <thead>\n",
       "    <tr style=\"text-align: right;\">\n",
       "      <th></th>\n",
       "      <th>time_length (min)</th>\n",
       "      <th>distance (km)</th>\n",
       "    </tr>\n",
       "  </thead>\n",
       "  <tbody>\n",
       "    <tr>\n",
       "      <th>count</th>\n",
       "      <td>258678.000000</td>\n",
       "      <td>258678.000000</td>\n",
       "    </tr>\n",
       "    <tr>\n",
       "      <th>mean</th>\n",
       "      <td>13.080050</td>\n",
       "      <td>1.830620</td>\n",
       "    </tr>\n",
       "    <tr>\n",
       "      <th>std</th>\n",
       "      <td>98.190841</td>\n",
       "      <td>1.673200</td>\n",
       "    </tr>\n",
       "    <tr>\n",
       "      <th>min</th>\n",
       "      <td>0.000000</td>\n",
       "      <td>0.000000</td>\n",
       "    </tr>\n",
       "    <tr>\n",
       "      <th>25%</th>\n",
       "      <td>4.433333</td>\n",
       "      <td>0.807003</td>\n",
       "    </tr>\n",
       "    <tr>\n",
       "      <th>50%</th>\n",
       "      <td>7.500000</td>\n",
       "      <td>1.356842</td>\n",
       "    </tr>\n",
       "    <tr>\n",
       "      <th>75%</th>\n",
       "      <td>12.833333</td>\n",
       "      <td>2.345643</td>\n",
       "    </tr>\n",
       "    <tr>\n",
       "      <th>max</th>\n",
       "      <td>16808.066667</td>\n",
       "      <td>23.725628</td>\n",
       "    </tr>\n",
       "  </tbody>\n",
       "</table>\n",
       "</div>"
      ],
      "text/plain": [
       "       time_length (min)  distance (km)\n",
       "count      258678.000000  258678.000000\n",
       "mean           13.080050       1.830620\n",
       "std            98.190841       1.673200\n",
       "min             0.000000       0.000000\n",
       "25%             4.433333       0.807003\n",
       "50%             7.500000       1.356842\n",
       "75%            12.833333       2.345643\n",
       "max         16808.066667      23.725628"
      ]
     },
     "execution_count": 28,
     "metadata": {},
     "output_type": "execute_result"
    }
   ],
   "source": [
    "df_bikes.describe() # Considers all features"
   ]
  },
  {
   "cell_type": "markdown",
   "id": "58db2bce",
   "metadata": {},
   "source": [
    "Let's take a look at the following plots and see what's the behaviour between features. "
   ]
  },
  {
   "cell_type": "code",
   "execution_count": 29,
   "id": "58a22113",
   "metadata": {},
   "outputs": [
    {
     "data": {
      "image/png": "[encoded data removed]",
      "text/plain": [
       "<Figure size 640x480 with 1 Axes>"
      ]
     },
     "metadata": {},
     "output_type": "display_data"
    }
   ],
   "source": [
    "plt.hist(df_bikes[\"rideable_type\"])\n",
    "plt.title(\"Frequency of the type of bike chosen by users\")\n",
    "plt.xlabel(\"Type of bike\")\n",
    "plt.ylabel(\"Frequency\")\n",
    "plt.show()"
   ]
  },
  {
   "cell_type": "code",
   "execution_count": 30,
   "id": "a5c7bc97",
   "metadata": {},
   "outputs": [
    {
     "data": {
      "text/plain": [
       "electric_bike    57.436272\n",
       "classic_bike     41.396253\n",
       "docked_bike       1.167475\n",
       "Name: rideable_type, dtype: float64"
      ]
     },
     "execution_count": 30,
     "metadata": {},
     "output_type": "execute_result"
    }
   ],
   "source": [
    "(df_bikes[\"rideable_type\"].value_counts()/df_bikes[\"rideable_type\"].value_counts().sum())*100"
   ]
  },
  {
   "cell_type": "markdown",
   "id": "07496aaf",
   "metadata": {},
   "source": [
    "We can see from the data that majority of time spent (or length) in Cyclistic (~57%) comes from electric bikes, hence, we could infere that **users may prefer electric bikes over the classic bike and docked bike, as they spend more time using it.**  "
   ]
  },
  {
   "cell_type": "code",
   "execution_count": 31,
   "id": "a11eff70",
   "metadata": {},
   "outputs": [
    {
     "data": {
      "image/png": "[encoded data removed]",
      "text/plain": [
       "<Figure size 640x480 with 1 Axes>"
      ]
     },
     "metadata": {},
     "output_type": "display_data"
    }
   ],
   "source": [
    "plt.hist(df_bikes[\"member_casual\"])\n",
    "plt.title(\"Frequency of the type of Cyclistic's users\")\n",
    "plt.xlabel(\"Type of users\")\n",
    "plt.ylabel(\"Frequency\")\n",
    "plt.show()"
   ]
  },
  {
   "cell_type": "code",
   "execution_count": 32,
   "id": "50a1937a",
   "metadata": {},
   "outputs": [
    {
     "data": {
      "text/plain": [
       "member    75.954275\n",
       "casual    24.045725\n",
       "Name: member_casual, dtype: float64"
      ]
     },
     "execution_count": 32,
     "metadata": {},
     "output_type": "execute_result"
    }
   ],
   "source": [
    "(df_bikes[\"member_casual\"].value_counts()/df_bikes[\"member_casual\"].value_counts().sum())*100"
   ]
  },
  {
   "cell_type": "markdown",
   "id": "13c303c4",
   "metadata": {},
   "source": [
    "For this particular set of data available we have more members (~76%) registered than casual users (24%). We could be splitting these two types of Cyclistic's user data to obtain a comparison for both and see more clearly what we can do in Cyclistic to improve the service for the casual users to make them turn into members!"
   ]
  },
  {
   "cell_type": "code",
   "execution_count": 33,
   "id": "b086a644",
   "metadata": {},
   "outputs": [
    {
     "data": {
      "image/png": "[encoded data removed]",
      "text/plain": [
       "<Figure size 640x480 with 1 Axes>"
      ]
     },
     "metadata": {},
     "output_type": "display_data"
    }
   ],
   "source": [
    "plt.bar(x=df_bikes[\"member_casual\"], height=df_bikes[\"time_length (min)\"])\n",
    "plt.title(\"Type of Users versus Time Length\")\n",
    "plt.xlabel(\"Type of users\")\n",
    "plt.ylabel(\"Time Length (min)\")\n",
    "plt.show()"
   ]
  },
  {
   "cell_type": "markdown",
   "id": "172f7322",
   "metadata": {},
   "source": [
    "We can see from the bar plot above that **casual users tend to have larger trips**, spending more time in them."
   ]
  },
  {
   "cell_type": "code",
   "execution_count": 34,
   "id": "9819297e",
   "metadata": {},
   "outputs": [
    {
     "data": {
      "image/png": "[encoded data removed]",
      "text/plain": [
       "<Figure size 640x480 with 1 Axes>"
      ]
     },
     "metadata": {},
     "output_type": "display_data"
    }
   ],
   "source": [
    "plt.bar(x=df_bikes[\"rideable_type\"], height=df_bikes[\"time_length (min)\"])\n",
    "plt.title(\"Type of Bikes versus Time Length\")\n",
    "plt.xlabel(\"Type of bikes\")\n",
    "plt.ylabel(\"Time Length (min)\")\n",
    "plt.show()"
   ]
  },
  {
   "cell_type": "markdown",
   "id": "c989d511",
   "metadata": {},
   "source": [
    "And here we have a big difference. We can see a very strong variation among these three types of bikes, docked being the one which users tend to spend more time in their bike trips. Hence, we can say that the **electric bike can definitely be the fastest option offered by Cyclistic (and besides is sustainable!)**. "
   ]
  },
  {
   "cell_type": "markdown",
   "id": "aec89e62",
   "metadata": {},
   "source": [
    "Now let's get on to analyzing this data for member users and casual users separately so we find more clues as to what to suggest in our business task."
   ]
  },
  {
   "cell_type": "code",
   "execution_count": 35,
   "id": "cc324749",
   "metadata": {},
   "outputs": [],
   "source": [
    "# Setting data frames for both user types:\n",
    "df_member = df_bikes[df_bikes[\"member_casual\"]==\"member\"]\n",
    "df_casual = df_bikes[df_bikes[\"member_casual\"]==\"casual\"]"
   ]
  },
  {
   "cell_type": "code",
   "execution_count": 36,
   "id": "8fbf1372",
   "metadata": {},
   "outputs": [
    {
     "data": {
      "text/html": [
       "<div>\n",
       "<style scoped>\n",
       "    .dataframe tbody tr th:only-of-type {\n",
       "        vertical-align: middle;\n",
       "    }\n",
       "\n",
       "    .dataframe tbody tr th {\n",
       "        vertical-align: top;\n",
       "    }\n",
       "\n",
       "    .dataframe thead th {\n",
       "        text-align: right;\n",
       "    }\n",
       "</style>\n",
       "<table border=\"1\" class=\"dataframe\">\n",
       "  <thead>\n",
       "    <tr style=\"text-align: right;\">\n",
       "      <th></th>\n",
       "      <th>rideable_type</th>\n",
       "      <th>member_casual</th>\n",
       "      <th>time_length (min)</th>\n",
       "      <th>distance (km)</th>\n",
       "    </tr>\n",
       "  </thead>\n",
       "  <tbody>\n",
       "    <tr>\n",
       "      <th>0</th>\n",
       "      <td>electric_bike</td>\n",
       "      <td>member</td>\n",
       "      <td>2.300000</td>\n",
       "      <td>0.741737</td>\n",
       "    </tr>\n",
       "    <tr>\n",
       "      <th>1</th>\n",
       "      <td>electric_bike</td>\n",
       "      <td>member</td>\n",
       "      <td>8.416667</td>\n",
       "      <td>2.221450</td>\n",
       "    </tr>\n",
       "    <tr>\n",
       "      <th>2</th>\n",
       "      <td>classic_bike</td>\n",
       "      <td>member</td>\n",
       "      <td>10.633333</td>\n",
       "      <td>1.584416</td>\n",
       "    </tr>\n",
       "  </tbody>\n",
       "</table>\n",
       "</div>"
      ],
      "text/plain": [
       "   rideable_type member_casual  time_length (min)  distance (km)\n",
       "0  electric_bike        member           2.300000       0.741737\n",
       "1  electric_bike        member           8.416667       2.221450\n",
       "2   classic_bike        member          10.633333       1.584416"
      ]
     },
     "execution_count": 36,
     "metadata": {},
     "output_type": "execute_result"
    }
   ],
   "source": [
    "df_member.head(3)"
   ]
  },
  {
   "cell_type": "code",
   "execution_count": 37,
   "id": "be7047b7",
   "metadata": {},
   "outputs": [
    {
     "data": {
      "image/png": "[encoded data removed]",
      "text/plain": [
       "<Figure size 640x480 with 1 Axes>"
      ]
     },
     "metadata": {},
     "output_type": "display_data"
    }
   ],
   "source": [
    "# Analyzing the distance feature for members:\n",
    "\n",
    "plt.hist(df_member[\"distance (km)\"], bins = 15)\n",
    "plt.xticks(np.arange(0, 24, 2))\n",
    "plt.title(\"Frequency of distance traveled by members\")\n",
    "plt.xlabel(\"Distance traveled (km)\")\n",
    "plt.ylabel(\"Frequency\")\n",
    "plt.show()"
   ]
  },
  {
   "cell_type": "code",
   "execution_count": 38,
   "id": "fa48c91f",
   "metadata": {},
   "outputs": [
    {
     "data": {
      "image/png": "[encoded data removed]",
      "text/plain": [
       "<Figure size 640x480 with 1 Axes>"
      ]
     },
     "metadata": {},
     "output_type": "display_data"
    }
   ],
   "source": [
    "# Analyzing distance feature for casual:\n",
    "\n",
    "plt.hist(df_casual[\"distance (km)\"], bins = 15)\n",
    "plt.xticks(np.arange(0, 24, 2))\n",
    "plt.title(\"Frequency of distance traveled by casual users\")\n",
    "plt.xlabel(\"Distance traveled (km)\")\n",
    "plt.ylabel(\"Frequency\")\n",
    "plt.show()"
   ]
  },
  {
   "cell_type": "markdown",
   "id": "d0859ff7",
   "metadata": {},
   "source": [
    "So from here, we can tell that **both types of users use the service for trips of around 2 km.**"
   ]
  },
  {
   "cell_type": "code",
   "execution_count": 39,
   "id": "47a6fb8f",
   "metadata": {},
   "outputs": [
    {
     "data": {
      "image/png": "[encoded data removed]",
      "text/plain": [
       "<Figure size 640x480 with 1 Axes>"
      ]
     },
     "metadata": {},
     "output_type": "display_data"
    }
   ],
   "source": [
    "# Analyzing bike preference for members: \n",
    "\n",
    "plt.hist(df_member[\"rideable_type\"])\n",
    "plt.title(\"Frequency of the type of bike chosen by members\")\n",
    "plt.xlabel(\"Type of bike\")\n",
    "plt.ylabel(\"Frequency\")\n",
    "plt.show()"
   ]
  },
  {
   "cell_type": "code",
   "execution_count": 40,
   "id": "e58048e3",
   "metadata": {},
   "outputs": [
    {
     "data": {
      "image/png": "[encoded data removed]",
      "text/plain": [
       "<Figure size 640x480 with 1 Axes>"
      ]
     },
     "metadata": {},
     "output_type": "display_data"
    }
   ],
   "source": [
    "# Analyzing bike preference for casual users: \n",
    "\n",
    "plt.hist(df_casual[\"rideable_type\"])\n",
    "plt.title(\"Frequency of the type of bike chosen by casual users\")\n",
    "plt.xlabel(\"Type of bike\")\n",
    "plt.ylabel(\"Frequency\")\n",
    "plt.show()"
   ]
  },
  {
   "attachments": {},
   "cell_type": "markdown",
   "id": "a438b72b",
   "metadata": {},
   "source": [
    "In this case, **none of the annual members use docked bike**, those few come from casual users. And for both, they prefer electric bike as well. Classic bike is the next preferred, especially by the members."
   ]
  },
  {
   "cell_type": "code",
   "execution_count": 41,
   "id": "70ac5f5a",
   "metadata": {},
   "outputs": [
    {
     "data": {
      "image/png": "[encoded data removed]",
      "text/plain": [
       "<Figure size 640x480 with 1 Axes>"
      ]
     },
     "metadata": {},
     "output_type": "display_data"
    }
   ],
   "source": [
    "# Member's trip time:\n",
    "plt.bar(x=df_member[\"rideable_type\"], height=df_member[\"time_length (min)\"])\n",
    "plt.title(\"Annual Members: Type of Bike versus Time Length\")\n",
    "plt.xlabel(\"Type of bikes\")\n",
    "plt.ylabel(\"Time Length (min)\")\n",
    "plt.show()"
   ]
  },
  {
   "attachments": {},
   "cell_type": "markdown",
   "id": "80e84d19",
   "metadata": {},
   "source": [
    "From the previous plot we can notice that, **in total, for the annual members the electric bikes are, of course, the fastest option as these take less than 3 times than classic bikes in their trips.**"
   ]
  },
  {
   "cell_type": "code",
   "execution_count": 42,
   "id": "f07b6403",
   "metadata": {},
   "outputs": [
    {
     "data": {
      "image/png": "[encoded data removed]",
      "text/plain": [
       "<Figure size 640x480 with 1 Axes>"
      ]
     },
     "metadata": {},
     "output_type": "display_data"
    }
   ],
   "source": [
    "# Casual user's trip time:\n",
    "plt.bar(x=df_casual[\"rideable_type\"], height=df_casual[\"time_length (min)\"])\n",
    "plt.title(\"Casual Users: Type of Bike versus Time Length\")\n",
    "plt.xlabel(\"Type of bikes\")\n",
    "plt.ylabel(\"Time Length (min)\")\n",
    "plt.show()"
   ]
  },
  {
   "attachments": {},
   "cell_type": "markdown",
   "id": "821bad84",
   "metadata": {},
   "source": [
    "Now considering the previous observation, we can say that **the docked bike is the slowest among all of the 3 types available.** "
   ]
  },
  {
   "cell_type": "code",
   "execution_count": 44,
   "id": "f172a00c",
   "metadata": {},
   "outputs": [
    {
     "data": {
      "image/png": "[encoded data removed]",
      "text/plain": [
       "<Figure size 640x480 with 1 Axes>"
      ]
     },
     "metadata": {},
     "output_type": "display_data"
    }
   ],
   "source": [
    "# Evaluating the distance traveled for users\n",
    "\n",
    "plt.bar(x=df_bikes[\"member_casual\"], height=df_bikes[\"distance (km)\"])\n",
    "plt.title(\"Cyclistic's Users versus Time Length\")\n",
    "plt.xlabel(\"Type of users\")\n",
    "plt.ylabel(\"Distance traveled (km)\")\n",
    "plt.show()"
   ]
  },
  {
   "attachments": {},
   "cell_type": "markdown",
   "id": "38a23a95",
   "metadata": {},
   "source": [
    "**Even though both type of customers behave nearly the same, for this dataset we can see that casual users have traveled a longer distance.**"
   ]
  }
 ],
 "metadata": {
  "kernelspec": {
   "display_name": "Python 3.10.9 ('base')",
   "language": "python",
   "name": "python3"
  },
  "language_info": {
   "codemirror_mode": {
    "name": "ipython",
    "version": 3
   },
   "file_extension": ".py",
   "mimetype": "text/x-python",
   "name": "python",
   "nbconvert_exporter": "python",
   "pygments_lexer": "ipython3",
   "version": "3.9.13"
  },
  "vscode": {
   "interpreter": {
    "hash": "16f5b46f222e2a3e8d4adbf7141cae37b71ed37616e60735fa5d1164a1bc3ada"
   }
  }
 },
 "nbformat": 4,
 "nbformat_minor": 5
}
