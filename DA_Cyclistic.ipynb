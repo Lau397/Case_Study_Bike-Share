{
 "cells": [
  {
   "cell_type": "code",
   "execution_count": 1,
   "id": "cb4fb77d",
   "metadata": {},
   "outputs": [],
   "source": [
    "# importing libraries to use\n",
    "import pandas as pd \n",
    "from datetime import datetime\n",
    "import matplotlib.pyplot as plt"
   ]
  },
  {
   "cell_type": "code",
   "execution_count": 56,
   "id": "e0c09a8d",
   "metadata": {},
   "outputs": [
    {
     "name": "stdout",
     "output_type": "stream",
     "text": [
      "Cyclistic's dataframe has 258678 rows and 13 columns\n"
     ]
    }
   ],
   "source": [
    "df_bikes = pd.read_csv(\"Trip_Data_032023.csv\")\n",
    "\n",
    "# Let's take a look at the data size we're dealing with:\n",
    "print(\"Cyclistic's dataframe has\", df_bikes.shape[0], \"rows and\", df_bikes.shape[1], \"columns\")"
   ]
  },
  {
   "cell_type": "code",
   "execution_count": 3,
   "id": "c4f3df16",
   "metadata": {},
   "outputs": [
    {
     "data": {
      "text/html": [
       "<div>\n",
       "<style scoped>\n",
       "    .dataframe tbody tr th:only-of-type {\n",
       "        vertical-align: middle;\n",
       "    }\n",
       "\n",
       "    .dataframe tbody tr th {\n",
       "        vertical-align: top;\n",
       "    }\n",
       "\n",
       "    .dataframe thead th {\n",
       "        text-align: right;\n",
       "    }\n",
       "</style>\n",
       "<table border=\"1\" class=\"dataframe\">\n",
       "  <thead>\n",
       "    <tr style=\"text-align: right;\">\n",
       "      <th></th>\n",
       "      <th>ride_id</th>\n",
       "      <th>rideable_type</th>\n",
       "      <th>started_at</th>\n",
       "      <th>ended_at</th>\n",
       "      <th>start_station_name</th>\n",
       "      <th>start_station_id</th>\n",
       "      <th>end_station_name</th>\n",
       "      <th>end_station_id</th>\n",
       "      <th>start_lat</th>\n",
       "      <th>start_lng</th>\n",
       "      <th>end_lat</th>\n",
       "      <th>end_lng</th>\n",
       "      <th>member_casual</th>\n",
       "    </tr>\n",
       "  </thead>\n",
       "  <tbody>\n",
       "    <tr>\n",
       "      <th>0</th>\n",
       "      <td>6842AA605EE9FBB3</td>\n",
       "      <td>electric_bike</td>\n",
       "      <td>2023-03-16 08:20:34</td>\n",
       "      <td>2023-03-16 08:22:52</td>\n",
       "      <td>Clark St &amp; Armitage Ave</td>\n",
       "      <td>13146</td>\n",
       "      <td>Larrabee St &amp; Webster Ave</td>\n",
       "      <td>13193</td>\n",
       "      <td>41.918413</td>\n",
       "      <td>-87.636451</td>\n",
       "      <td>41.921822</td>\n",
       "      <td>-87.644140</td>\n",
       "      <td>member</td>\n",
       "    </tr>\n",
       "    <tr>\n",
       "      <th>1</th>\n",
       "      <td>F984267A75B99A8C</td>\n",
       "      <td>electric_bike</td>\n",
       "      <td>2023-03-04 14:07:06</td>\n",
       "      <td>2023-03-04 14:15:31</td>\n",
       "      <td>Public Rack - Kedzie Ave &amp; Argyle St</td>\n",
       "      <td>491</td>\n",
       "      <td>NaN</td>\n",
       "      <td>NaN</td>\n",
       "      <td>41.970000</td>\n",
       "      <td>-87.710000</td>\n",
       "      <td>41.950000</td>\n",
       "      <td>-87.710000</td>\n",
       "      <td>member</td>\n",
       "    </tr>\n",
       "    <tr>\n",
       "      <th>2</th>\n",
       "      <td>FF7CF57CFE026D02</td>\n",
       "      <td>classic_bike</td>\n",
       "      <td>2023-03-31 12:28:09</td>\n",
       "      <td>2023-03-31 12:38:47</td>\n",
       "      <td>Orleans St &amp; Chestnut St (NEXT Apts)</td>\n",
       "      <td>620</td>\n",
       "      <td>Clark St &amp; Randolph St</td>\n",
       "      <td>TA1305000030</td>\n",
       "      <td>41.898203</td>\n",
       "      <td>-87.637536</td>\n",
       "      <td>41.884576</td>\n",
       "      <td>-87.631890</td>\n",
       "      <td>member</td>\n",
       "    </tr>\n",
       "    <tr>\n",
       "      <th>3</th>\n",
       "      <td>6B61B916032CB6D6</td>\n",
       "      <td>classic_bike</td>\n",
       "      <td>2023-03-22 14:09:08</td>\n",
       "      <td>2023-03-22 14:24:51</td>\n",
       "      <td>Desplaines St &amp; Kinzie St</td>\n",
       "      <td>TA1306000003</td>\n",
       "      <td>Sheffield Ave &amp; Kingsbury St</td>\n",
       "      <td>13154</td>\n",
       "      <td>41.888716</td>\n",
       "      <td>-87.644448</td>\n",
       "      <td>41.910522</td>\n",
       "      <td>-87.653106</td>\n",
       "      <td>member</td>\n",
       "    </tr>\n",
       "    <tr>\n",
       "      <th>4</th>\n",
       "      <td>E55E61A5F1260040</td>\n",
       "      <td>electric_bike</td>\n",
       "      <td>2023-03-09 07:15:00</td>\n",
       "      <td>2023-03-09 07:26:00</td>\n",
       "      <td>Walsh Park</td>\n",
       "      <td>18067</td>\n",
       "      <td>Sangamon St &amp; Lake St</td>\n",
       "      <td>TA1306000015</td>\n",
       "      <td>41.914480</td>\n",
       "      <td>-87.668013</td>\n",
       "      <td>41.885779</td>\n",
       "      <td>-87.651025</td>\n",
       "      <td>member</td>\n",
       "    </tr>\n",
       "  </tbody>\n",
       "</table>\n",
       "</div>"
      ],
      "text/plain": [
       "            ride_id  rideable_type           started_at             ended_at  \\\n",
       "0  6842AA605EE9FBB3  electric_bike  2023-03-16 08:20:34  2023-03-16 08:22:52   \n",
       "1  F984267A75B99A8C  electric_bike  2023-03-04 14:07:06  2023-03-04 14:15:31   \n",
       "2  FF7CF57CFE026D02   classic_bike  2023-03-31 12:28:09  2023-03-31 12:38:47   \n",
       "3  6B61B916032CB6D6   classic_bike  2023-03-22 14:09:08  2023-03-22 14:24:51   \n",
       "4  E55E61A5F1260040  electric_bike  2023-03-09 07:15:00  2023-03-09 07:26:00   \n",
       "\n",
       "                     start_station_name start_station_id  \\\n",
       "0               Clark St & Armitage Ave            13146   \n",
       "1  Public Rack - Kedzie Ave & Argyle St              491   \n",
       "2  Orleans St & Chestnut St (NEXT Apts)              620   \n",
       "3             Desplaines St & Kinzie St     TA1306000003   \n",
       "4                            Walsh Park            18067   \n",
       "\n",
       "               end_station_name end_station_id  start_lat  start_lng  \\\n",
       "0     Larrabee St & Webster Ave          13193  41.918413 -87.636451   \n",
       "1                           NaN            NaN  41.970000 -87.710000   \n",
       "2        Clark St & Randolph St   TA1305000030  41.898203 -87.637536   \n",
       "3  Sheffield Ave & Kingsbury St          13154  41.888716 -87.644448   \n",
       "4         Sangamon St & Lake St   TA1306000015  41.914480 -87.668013   \n",
       "\n",
       "     end_lat    end_lng member_casual  \n",
       "0  41.921822 -87.644140        member  \n",
       "1  41.950000 -87.710000        member  \n",
       "2  41.884576 -87.631890        member  \n",
       "3  41.910522 -87.653106        member  \n",
       "4  41.885779 -87.651025        member  "
      ]
     },
     "execution_count": 3,
     "metadata": {},
     "output_type": "execute_result"
    }
   ],
   "source": [
    "# Taking a quick look at the first 5 rows of the dataframe:\n",
    "df_bikes.head()"
   ]
  },
  {
   "cell_type": "code",
   "execution_count": 60,
   "id": "0443c0b9",
   "metadata": {},
   "outputs": [
    {
     "data": {
      "text/plain": [
       "False    258678\n",
       "dtype: int64"
      ]
     },
     "execution_count": 60,
     "metadata": {},
     "output_type": "execute_result"
    }
   ],
   "source": [
    "# Checking if there is any duplicated value in the dataframe:\n",
    "df_bikes.duplicated().value_counts()"
   ]
  },
  {
   "cell_type": "code",
   "execution_count": 4,
   "id": "185ee37d-ec1f-4129-8f89-5ae032568ff6",
   "metadata": {},
   "outputs": [
    {
     "name": "stdout",
     "output_type": "stream",
     "text": [
      "<class 'pandas.core.frame.DataFrame'>\n",
      "RangeIndex: 258678 entries, 0 to 258677\n",
      "Data columns (total 13 columns):\n",
      " #   Column              Non-Null Count   Dtype  \n",
      "---  ------              --------------   -----  \n",
      " 0   ride_id             258678 non-null  object \n",
      " 1   rideable_type       258678 non-null  object \n",
      " 2   started_at          258678 non-null  object \n",
      " 3   ended_at            258678 non-null  object \n",
      " 4   start_station_name  222768 non-null  object \n",
      " 5   start_station_id    222768 non-null  object \n",
      " 6   end_station_name    220240 non-null  object \n",
      " 7   end_station_id      220240 non-null  object \n",
      " 8   start_lat           258678 non-null  float64\n",
      " 9   start_lng           258678 non-null  float64\n",
      " 10  end_lat             258495 non-null  float64\n",
      " 11  end_lng             258495 non-null  float64\n",
      " 12  member_casual       258678 non-null  object \n",
      "dtypes: float64(4), object(9)\n",
      "memory usage: 25.7+ MB\n"
     ]
    }
   ],
   "source": [
    "# We can also check for the type of data that there is in each column:\n",
    "# df_bikes.dtypes\n",
    "df_bikes.info()"
   ]
  },
  {
   "cell_type": "code",
   "execution_count": 63,
   "id": "2dbdc046",
   "metadata": {},
   "outputs": [],
   "source": [
    "# Columns 'started at' and 'ended at' are not an object type, so, we should change that:\n",
    "df_bikes['started_at'] = pd.to_datetime(df_bikes['started_at'])\n",
    "df_bikes['ended_at'] = pd.to_datetime(df_bikes['ended_at'])"
   ]
  },
  {
   "cell_type": "code",
   "execution_count": 64,
   "id": "a98fe3c7",
   "metadata": {},
   "outputs": [
    {
     "data": {
      "text/plain": [
       "ride_id                       object\n",
       "rideable_type                 object\n",
       "started_at            datetime64[ns]\n",
       "ended_at              datetime64[ns]\n",
       "start_station_name            object\n",
       "start_station_id              object\n",
       "end_station_name              object\n",
       "end_station_id                object\n",
       "start_lat                    float64\n",
       "start_lng                    float64\n",
       "end_lat                      float64\n",
       "end_lng                      float64\n",
       "member_casual                 object\n",
       "dtype: object"
      ]
     },
     "execution_count": 64,
     "metadata": {},
     "output_type": "execute_result"
    }
   ],
   "source": [
    "# We can now check again if it's changed or not:\n",
    "df_bikes.dtypes"
   ]
  },
  {
   "cell_type": "markdown",
   "id": "f9af75f5",
   "metadata": {},
   "source": [
    "The types are correct in relation to info displayed in the dataframe."
   ]
  },
  {
   "cell_type": "code",
   "execution_count": 65,
   "id": "cfa94e7b",
   "metadata": {},
   "outputs": [
    {
     "name": "stdout",
     "output_type": "stream",
     "text": [
      "The column 'rideable_type' has 3 different types of bikes registered, which are electric_bike 148575 classic_bike 107083 and docked_bike 3020\n"
     ]
    }
   ],
   "source": [
    "# We have some columns that have different types of data in it that may be worth to look at.\n",
    "print(\"The column 'rideable_type' has\", df_bikes['rideable_type'].nunique(), \"different types of bikes registered, which are\",\n",
    "     df_bikes['rideable_type'].unique()[0], df_bikes['rideable_type'].value_counts()[0],\n",
    "      df_bikes['rideable_type'].unique()[1], df_bikes['rideable_type'].value_counts()[1], \"and\",\n",
    "       df_bikes['rideable_type'].unique()[2], df_bikes['rideable_type'].value_counts()[2] )\n"
   ]
  },
  {
   "cell_type": "code",
   "execution_count": 66,
   "id": "ce19ec05",
   "metadata": {},
   "outputs": [
    {
     "name": "stdout",
     "output_type": "stream",
     "text": [
      "There are 2 different types of members registered, which are member 196477 and casual 62201\n"
     ]
    }
   ],
   "source": [
    "# We can also see what types of members have been registered in this dataframe and how many for each:\n",
    "print(\"There are\", df_bikes['member_casual'].nunique(), \"different types of members registered, which are\",\n",
    "     df_bikes['member_casual'].unique()[0], df_bikes['member_casual'].value_counts()[0], \"and\",\n",
    "      df_bikes['member_casual'].unique()[1], df_bikes['member_casual'].value_counts()[1] )"
   ]
  },
  {
   "cell_type": "code",
   "execution_count": 67,
   "id": "d7fdb10a",
   "metadata": {},
   "outputs": [
    {
     "data": {
      "text/plain": [
       "ride_id                   0\n",
       "rideable_type             0\n",
       "started_at                0\n",
       "ended_at                  0\n",
       "start_station_name    35910\n",
       "start_station_id      35910\n",
       "end_station_name      38438\n",
       "end_station_id        38438\n",
       "start_lat                 0\n",
       "start_lng                 0\n",
       "end_lat                 183\n",
       "end_lng                 183\n",
       "member_casual             0\n",
       "dtype: int64"
      ]
     },
     "execution_count": 67,
     "metadata": {},
     "output_type": "execute_result"
    }
   ],
   "source": [
    "# Let's consider now the nan values that may have been registered, first we'll check if they exist in the dataframe:\n",
    "df_bikes.isna().sum()"
   ]
  },
  {
   "cell_type": "code",
   "execution_count": 68,
   "id": "569958a0-82c3-4b5f-8b5a-60f8a1e60b14",
   "metadata": {},
   "outputs": [
    {
     "name": "stdout",
     "output_type": "stream",
     "text": [
      "As percentages, the NaN values in the current data set would be:\n",
      " ride_id                0.000000\n",
      "rideable_type          0.000000\n",
      "started_at             0.000000\n",
      "ended_at               0.000000\n",
      "start_station_name    16.119910\n",
      "start_station_id      16.119910\n",
      "end_station_name      17.452779\n",
      "end_station_id        17.452779\n",
      "start_lat              0.000000\n",
      "start_lng              0.000000\n",
      "end_lat                0.070794\n",
      "end_lng                0.070794\n",
      "member_casual          0.000000\n",
      "dtype: float64\n"
     ]
    }
   ],
   "source": [
    "print(\"As percentages, the NaN values in the current data set would be:\\n\",\n",
    "      (df_bikes.isna().sum()/df_bikes.count())*100)"
   ]
  },
  {
   "cell_type": "markdown",
   "id": "fad619ec-2a7b-4198-90ed-38b3b539b787",
   "metadata": {},
   "source": [
    "We have between 0% and ~15% of NaN values in the geolocation columns. So far we've seen that according to the company's needs we're looking to have more member users rather than casual users, so it'd be good to consider how consistent the users are, through the time data. \n",
    "\n",
    "For this reason, we're going to be considering the time columns and disregard the geolocation ones, because at the same time, regardless of the location, the user still wants to use the service for transportation, easy-to-use, money-saving reasons."
   ]
  },
  {
   "cell_type": "code",
   "execution_count": 69,
   "id": "916729ce-5ba4-440f-b277-801bfc0d929d",
   "metadata": {},
   "outputs": [
    {
     "data": {
      "text/plain": [
       "rideable_type    0\n",
       "started_at       0\n",
       "ended_at         0\n",
       "member_casual    0\n",
       "dtype: int64"
      ]
     },
     "execution_count": 69,
     "metadata": {},
     "output_type": "execute_result"
    }
   ],
   "source": [
    "# Removing al NaN columns (columns with the geolocation/location data):\n",
    "df_bikes.dropna(axis=1, inplace=True) # Using dropna for those that NaNs\n",
    "df_bikes.drop(columns=[\"ride_id\", \"start_lat\", \"start_lng\"], inplace = True) # Using drop for longitude and latitude data\n",
    "df_bikes.isna().sum()"
   ]
  },
  {
   "cell_type": "code",
   "execution_count": 70,
   "id": "3d5b8987-9e73-4a94-95af-0b9d22ea5c6c",
   "metadata": {},
   "outputs": [
    {
     "data": {
      "text/html": [
       "<div>\n",
       "<style scoped>\n",
       "    .dataframe tbody tr th:only-of-type {\n",
       "        vertical-align: middle;\n",
       "    }\n",
       "\n",
       "    .dataframe tbody tr th {\n",
       "        vertical-align: top;\n",
       "    }\n",
       "\n",
       "    .dataframe thead th {\n",
       "        text-align: right;\n",
       "    }\n",
       "</style>\n",
       "<table border=\"1\" class=\"dataframe\">\n",
       "  <thead>\n",
       "    <tr style=\"text-align: right;\">\n",
       "      <th></th>\n",
       "      <th>rideable_type</th>\n",
       "      <th>started_at</th>\n",
       "      <th>ended_at</th>\n",
       "      <th>member_casual</th>\n",
       "    </tr>\n",
       "  </thead>\n",
       "  <tbody>\n",
       "    <tr>\n",
       "      <th>0</th>\n",
       "      <td>electric_bike</td>\n",
       "      <td>2023-03-16 08:20:34</td>\n",
       "      <td>2023-03-16 08:22:52</td>\n",
       "      <td>member</td>\n",
       "    </tr>\n",
       "    <tr>\n",
       "      <th>1</th>\n",
       "      <td>electric_bike</td>\n",
       "      <td>2023-03-04 14:07:06</td>\n",
       "      <td>2023-03-04 14:15:31</td>\n",
       "      <td>member</td>\n",
       "    </tr>\n",
       "    <tr>\n",
       "      <th>2</th>\n",
       "      <td>classic_bike</td>\n",
       "      <td>2023-03-31 12:28:09</td>\n",
       "      <td>2023-03-31 12:38:47</td>\n",
       "      <td>member</td>\n",
       "    </tr>\n",
       "  </tbody>\n",
       "</table>\n",
       "</div>"
      ],
      "text/plain": [
       "   rideable_type          started_at            ended_at member_casual\n",
       "0  electric_bike 2023-03-16 08:20:34 2023-03-16 08:22:52        member\n",
       "1  electric_bike 2023-03-04 14:07:06 2023-03-04 14:15:31        member\n",
       "2   classic_bike 2023-03-31 12:28:09 2023-03-31 12:38:47        member"
      ]
     },
     "execution_count": 70,
     "metadata": {},
     "output_type": "execute_result"
    }
   ],
   "source": [
    "df_bikes.head(3)"
   ]
  },
  {
   "cell_type": "markdown",
   "id": "ebfe7618-cdbc-497e-b872-e7977a8bebc7",
   "metadata": {},
   "source": [
    "We can now take a deeper look into the user's preference when it comes to the type of bike and how much time they spend using the service."
   ]
  },
  {
   "cell_type": "code",
   "execution_count": 71,
   "id": "9e29aee2-267d-416e-82a5-13ea2d715eba",
   "metadata": {},
   "outputs": [
    {
     "data": {
      "text/html": [
       "<div>\n",
       "<style scoped>\n",
       "    .dataframe tbody tr th:only-of-type {\n",
       "        vertical-align: middle;\n",
       "    }\n",
       "\n",
       "    .dataframe tbody tr th {\n",
       "        vertical-align: top;\n",
       "    }\n",
       "\n",
       "    .dataframe thead th {\n",
       "        text-align: right;\n",
       "    }\n",
       "</style>\n",
       "<table border=\"1\" class=\"dataframe\">\n",
       "  <thead>\n",
       "    <tr style=\"text-align: right;\">\n",
       "      <th></th>\n",
       "      <th>rideable_type</th>\n",
       "      <th>started_at</th>\n",
       "      <th>ended_at</th>\n",
       "      <th>member_casual</th>\n",
       "      <th>time_length</th>\n",
       "    </tr>\n",
       "  </thead>\n",
       "  <tbody>\n",
       "    <tr>\n",
       "      <th>0</th>\n",
       "      <td>electric_bike</td>\n",
       "      <td>2023-03-16 08:20:34</td>\n",
       "      <td>2023-03-16 08:22:52</td>\n",
       "      <td>member</td>\n",
       "      <td>0 days 00:02:18</td>\n",
       "    </tr>\n",
       "    <tr>\n",
       "      <th>1</th>\n",
       "      <td>electric_bike</td>\n",
       "      <td>2023-03-04 14:07:06</td>\n",
       "      <td>2023-03-04 14:15:31</td>\n",
       "      <td>member</td>\n",
       "      <td>0 days 00:08:25</td>\n",
       "    </tr>\n",
       "    <tr>\n",
       "      <th>2</th>\n",
       "      <td>classic_bike</td>\n",
       "      <td>2023-03-31 12:28:09</td>\n",
       "      <td>2023-03-31 12:38:47</td>\n",
       "      <td>member</td>\n",
       "      <td>0 days 00:10:38</td>\n",
       "    </tr>\n",
       "    <tr>\n",
       "      <th>3</th>\n",
       "      <td>classic_bike</td>\n",
       "      <td>2023-03-22 14:09:08</td>\n",
       "      <td>2023-03-22 14:24:51</td>\n",
       "      <td>member</td>\n",
       "      <td>0 days 00:15:43</td>\n",
       "    </tr>\n",
       "    <tr>\n",
       "      <th>4</th>\n",
       "      <td>electric_bike</td>\n",
       "      <td>2023-03-09 07:15:00</td>\n",
       "      <td>2023-03-09 07:26:00</td>\n",
       "      <td>member</td>\n",
       "      <td>0 days 00:11:00</td>\n",
       "    </tr>\n",
       "    <tr>\n",
       "      <th>...</th>\n",
       "      <td>...</td>\n",
       "      <td>...</td>\n",
       "      <td>...</td>\n",
       "      <td>...</td>\n",
       "      <td>...</td>\n",
       "    </tr>\n",
       "    <tr>\n",
       "      <th>258673</th>\n",
       "      <td>electric_bike</td>\n",
       "      <td>2023-03-08 00:00:02</td>\n",
       "      <td>2023-03-08 00:06:25</td>\n",
       "      <td>member</td>\n",
       "      <td>0 days 00:06:23</td>\n",
       "    </tr>\n",
       "    <tr>\n",
       "      <th>258674</th>\n",
       "      <td>classic_bike</td>\n",
       "      <td>2023-03-21 14:24:42</td>\n",
       "      <td>2023-03-21 14:50:45</td>\n",
       "      <td>member</td>\n",
       "      <td>0 days 00:26:03</td>\n",
       "    </tr>\n",
       "    <tr>\n",
       "      <th>258675</th>\n",
       "      <td>electric_bike</td>\n",
       "      <td>2023-03-21 16:48:52</td>\n",
       "      <td>2023-03-21 16:51:27</td>\n",
       "      <td>member</td>\n",
       "      <td>0 days 00:02:35</td>\n",
       "    </tr>\n",
       "    <tr>\n",
       "      <th>258676</th>\n",
       "      <td>classic_bike</td>\n",
       "      <td>2023-03-16 20:36:05</td>\n",
       "      <td>2023-03-16 20:43:11</td>\n",
       "      <td>member</td>\n",
       "      <td>0 days 00:07:06</td>\n",
       "    </tr>\n",
       "    <tr>\n",
       "      <th>258677</th>\n",
       "      <td>electric_bike</td>\n",
       "      <td>2023-03-27 19:58:08</td>\n",
       "      <td>2023-03-27 20:03:52</td>\n",
       "      <td>member</td>\n",
       "      <td>0 days 00:05:44</td>\n",
       "    </tr>\n",
       "  </tbody>\n",
       "</table>\n",
       "<p>258678 rows × 5 columns</p>\n",
       "</div>"
      ],
      "text/plain": [
       "        rideable_type          started_at            ended_at member_casual  \\\n",
       "0       electric_bike 2023-03-16 08:20:34 2023-03-16 08:22:52        member   \n",
       "1       electric_bike 2023-03-04 14:07:06 2023-03-04 14:15:31        member   \n",
       "2        classic_bike 2023-03-31 12:28:09 2023-03-31 12:38:47        member   \n",
       "3        classic_bike 2023-03-22 14:09:08 2023-03-22 14:24:51        member   \n",
       "4       electric_bike 2023-03-09 07:15:00 2023-03-09 07:26:00        member   \n",
       "...               ...                 ...                 ...           ...   \n",
       "258673  electric_bike 2023-03-08 00:00:02 2023-03-08 00:06:25        member   \n",
       "258674   classic_bike 2023-03-21 14:24:42 2023-03-21 14:50:45        member   \n",
       "258675  electric_bike 2023-03-21 16:48:52 2023-03-21 16:51:27        member   \n",
       "258676   classic_bike 2023-03-16 20:36:05 2023-03-16 20:43:11        member   \n",
       "258677  electric_bike 2023-03-27 19:58:08 2023-03-27 20:03:52        member   \n",
       "\n",
       "           time_length  \n",
       "0      0 days 00:02:18  \n",
       "1      0 days 00:08:25  \n",
       "2      0 days 00:10:38  \n",
       "3      0 days 00:15:43  \n",
       "4      0 days 00:11:00  \n",
       "...                ...  \n",
       "258673 0 days 00:06:23  \n",
       "258674 0 days 00:26:03  \n",
       "258675 0 days 00:02:35  \n",
       "258676 0 days 00:07:06  \n",
       "258677 0 days 00:05:44  \n",
       "\n",
       "[258678 rows x 5 columns]"
      ]
     },
     "execution_count": 71,
     "metadata": {},
     "output_type": "execute_result"
    }
   ],
   "source": [
    "# Calculating the time spent by the user:\n",
    "df_bikes[\"time_length\"]=df_bikes[\"ended_at\"]-df_bikes[\"started_at\"]\n",
    "df_bikes"
   ]
  },
  {
   "cell_type": "code",
   "execution_count": 72,
   "id": "9955a765-d973-4c07-98e4-bbc94e84dae3",
   "metadata": {},
   "outputs": [
    {
     "data": {
      "text/plain": [
       "rideable_type             object\n",
       "started_at        datetime64[ns]\n",
       "ended_at          datetime64[ns]\n",
       "member_casual             object\n",
       "time_length      timedelta64[ns]\n",
       "dtype: object"
      ]
     },
     "execution_count": 72,
     "metadata": {},
     "output_type": "execute_result"
    }
   ],
   "source": [
    "df_bikes.dtypes"
   ]
  },
  {
   "cell_type": "code",
   "execution_count": 73,
   "id": "721e53e8-926a-4db1-8d2f-b3a6905c1307",
   "metadata": {},
   "outputs": [
    {
     "data": {
      "text/plain": [
       "count                       258678\n",
       "mean     0 days 00:13:04.803017651\n",
       "std      0 days 01:38:11.450462766\n",
       "min                0 days 00:00:00\n",
       "25%                0 days 00:04:26\n",
       "50%                0 days 00:07:30\n",
       "75%                0 days 00:12:50\n",
       "max               11 days 16:08:04\n",
       "Name: time_length, dtype: object"
      ]
     },
     "execution_count": 73,
     "metadata": {},
     "output_type": "execute_result"
    }
   ],
   "source": [
    "# Analyzing what we got above:\n",
    "df_bikes[\"time_length\"].describe()"
   ]
  },
  {
   "cell_type": "markdown",
   "id": "20149fec-00bd-4528-a55f-68422c48c96b",
   "metadata": {},
   "source": [
    "We can see a maximum of 11 days and over 16 hours and a minimum of 0 hours. The mean of the time spent by users in Cyclistic is 13 minutes."
   ]
  },
  {
   "cell_type": "markdown",
   "id": "ffc6586b-8b29-4f8e-a47a-0ea571871981",
   "metadata": {},
   "source": [
    "Now that we know the time length for each ride, we're going to get these values in the same unit, this time, in minutes."
   ]
  },
  {
   "cell_type": "code",
   "execution_count": 74,
   "id": "1c2bc02f-229b-40c5-8398-8a274a7d843e",
   "metadata": {
    "tags": []
   },
   "outputs": [],
   "source": [
    "df_bikes[\"time_length (min)\"]=df_bikes[\"time_length\"].dt.total_seconds()/60\n",
    "# These results make all sense: ((11days*24h)+16h)*60m= ~16800 minutes\n",
    "\n",
    "# Dropping the previous columns with no unit transformation:\n",
    "df_bikes.drop(columns = [\"time_length\", \"started_at\", \"ended_at\"], inplace=True)"
   ]
  },
  {
   "cell_type": "code",
   "execution_count": 75,
   "id": "b8857b54",
   "metadata": {},
   "outputs": [
    {
     "data": {
      "text/html": [
       "<div>\n",
       "<style scoped>\n",
       "    .dataframe tbody tr th:only-of-type {\n",
       "        vertical-align: middle;\n",
       "    }\n",
       "\n",
       "    .dataframe tbody tr th {\n",
       "        vertical-align: top;\n",
       "    }\n",
       "\n",
       "    .dataframe thead th {\n",
       "        text-align: right;\n",
       "    }\n",
       "</style>\n",
       "<table border=\"1\" class=\"dataframe\">\n",
       "  <thead>\n",
       "    <tr style=\"text-align: right;\">\n",
       "      <th></th>\n",
       "      <th>time_length (min)</th>\n",
       "    </tr>\n",
       "  </thead>\n",
       "  <tbody>\n",
       "    <tr>\n",
       "      <th>count</th>\n",
       "      <td>258678.000000</td>\n",
       "    </tr>\n",
       "    <tr>\n",
       "      <th>mean</th>\n",
       "      <td>13.080050</td>\n",
       "    </tr>\n",
       "    <tr>\n",
       "      <th>std</th>\n",
       "      <td>98.190841</td>\n",
       "    </tr>\n",
       "    <tr>\n",
       "      <th>min</th>\n",
       "      <td>0.000000</td>\n",
       "    </tr>\n",
       "    <tr>\n",
       "      <th>25%</th>\n",
       "      <td>4.433333</td>\n",
       "    </tr>\n",
       "    <tr>\n",
       "      <th>50%</th>\n",
       "      <td>7.500000</td>\n",
       "    </tr>\n",
       "    <tr>\n",
       "      <th>75%</th>\n",
       "      <td>12.833333</td>\n",
       "    </tr>\n",
       "    <tr>\n",
       "      <th>max</th>\n",
       "      <td>16808.066667</td>\n",
       "    </tr>\n",
       "  </tbody>\n",
       "</table>\n",
       "</div>"
      ],
      "text/plain": [
       "       time_length (min)\n",
       "count      258678.000000\n",
       "mean           13.080050\n",
       "std            98.190841\n",
       "min             0.000000\n",
       "25%             4.433333\n",
       "50%             7.500000\n",
       "75%            12.833333\n",
       "max         16808.066667"
      ]
     },
     "execution_count": 75,
     "metadata": {},
     "output_type": "execute_result"
    }
   ],
   "source": [
    "df_bikes.describe() # Considers the non-object column "
   ]
  },
  {
   "cell_type": "code",
   "execution_count": 76,
   "id": "7c570ebd-fb37-44a2-a083-b9c930f6a000",
   "metadata": {},
   "outputs": [
    {
     "data": {
      "text/html": [
       "<div>\n",
       "<style scoped>\n",
       "    .dataframe tbody tr th:only-of-type {\n",
       "        vertical-align: middle;\n",
       "    }\n",
       "\n",
       "    .dataframe tbody tr th {\n",
       "        vertical-align: top;\n",
       "    }\n",
       "\n",
       "    .dataframe thead th {\n",
       "        text-align: right;\n",
       "    }\n",
       "</style>\n",
       "<table border=\"1\" class=\"dataframe\">\n",
       "  <thead>\n",
       "    <tr style=\"text-align: right;\">\n",
       "      <th></th>\n",
       "      <th>rideable_type</th>\n",
       "      <th>member_casual</th>\n",
       "      <th>time_length (min)</th>\n",
       "    </tr>\n",
       "  </thead>\n",
       "  <tbody>\n",
       "    <tr>\n",
       "      <th>0</th>\n",
       "      <td>electric_bike</td>\n",
       "      <td>member</td>\n",
       "      <td>2.300000</td>\n",
       "    </tr>\n",
       "    <tr>\n",
       "      <th>1</th>\n",
       "      <td>electric_bike</td>\n",
       "      <td>member</td>\n",
       "      <td>8.416667</td>\n",
       "    </tr>\n",
       "    <tr>\n",
       "      <th>2</th>\n",
       "      <td>classic_bike</td>\n",
       "      <td>member</td>\n",
       "      <td>10.633333</td>\n",
       "    </tr>\n",
       "    <tr>\n",
       "      <th>3</th>\n",
       "      <td>classic_bike</td>\n",
       "      <td>member</td>\n",
       "      <td>15.716667</td>\n",
       "    </tr>\n",
       "    <tr>\n",
       "      <th>4</th>\n",
       "      <td>electric_bike</td>\n",
       "      <td>member</td>\n",
       "      <td>11.000000</td>\n",
       "    </tr>\n",
       "  </tbody>\n",
       "</table>\n",
       "</div>"
      ],
      "text/plain": [
       "   rideable_type member_casual  time_length (min)\n",
       "0  electric_bike        member           2.300000\n",
       "1  electric_bike        member           8.416667\n",
       "2   classic_bike        member          10.633333\n",
       "3   classic_bike        member          15.716667\n",
       "4  electric_bike        member          11.000000"
      ]
     },
     "execution_count": 76,
     "metadata": {},
     "output_type": "execute_result"
    }
   ],
   "source": [
    "df_bikes.head()"
   ]
  },
  {
   "attachments": {},
   "cell_type": "markdown",
   "id": "58db2bce",
   "metadata": {},
   "source": [
    "Let's take a look at the plot and what's the behaviour between features. "
   ]
  },
  {
   "cell_type": "code",
   "execution_count": 77,
   "id": "58a22113",
   "metadata": {},
   "outputs": [
    {
     "data": {
      "text/plain": [
       "(array([148575.,      0.,      0.,      0.,      0., 107083.,      0.,\n",
       "             0.,      0.,   3020.]),\n",
       " array([0. , 0.2, 0.4, 0.6, 0.8, 1. , 1.2, 1.4, 1.6, 1.8, 2. ]),\n",
       " <BarContainer object of 10 artists>)"
      ]
     },
     "execution_count": 77,
     "metadata": {},
     "output_type": "execute_result"
    },
    {
     "data": {
      "image/png": "[encoded data removed]",
      "text/plain": [
       "<Figure size 640x480 with 1 Axes>"
      ]
     },
     "metadata": {},
     "output_type": "display_data"
    }
   ],
   "source": [
    "plt.hist(df_bikes[\"rideable_type\"])"
   ]
  },
  {
   "cell_type": "code",
   "execution_count": 78,
   "id": "a5c7bc97",
   "metadata": {},
   "outputs": [
    {
     "data": {
      "text/plain": [
       "electric_bike    57.436272\n",
       "classic_bike     41.396253\n",
       "docked_bike       1.167475\n",
       "Name: rideable_type, dtype: float64"
      ]
     },
     "execution_count": 78,
     "metadata": {},
     "output_type": "execute_result"
    }
   ],
   "source": [
    "(df_bikes[\"rideable_type\"].value_counts()/df_bikes[\"rideable_type\"].value_counts().sum())*100"
   ]
  },
  {
   "attachments": {},
   "cell_type": "markdown",
   "id": "07496aaf",
   "metadata": {},
   "source": [
    "We can see that the majority of users (~57%) transport themselves with electric bikes, hence, we could infere that users prefer electric bikes over the classic bike which ~41% of users ride in and docked bikes with ~1%.  "
   ]
  },
  {
   "cell_type": "code",
   "execution_count": 49,
   "id": "b086a644",
   "metadata": {},
   "outputs": [
    {
     "data": {
      "text/plain": [
       "<BarContainer object of 258678 artists>"
      ]
     },
     "execution_count": 49,
     "metadata": {},
     "output_type": "execute_result"
    },
    {
     "data": {
      "image/png": "[encoded data removed]",
      "text/plain": [
       "<Figure size 640x480 with 1 Axes>"
      ]
     },
     "metadata": {},
     "output_type": "display_data"
    }
   ],
   "source": [
    "plt.bar(x=df_bikes[\"member_casual\"], height=df_bikes[\"time_length (min)\"])"
   ]
  },
  {
   "cell_type": "code",
   "execution_count": 50,
   "id": "9819297e",
   "metadata": {},
   "outputs": [
    {
     "data": {
      "text/plain": [
       "<BarContainer object of 258678 artists>"
      ]
     },
     "execution_count": 50,
     "metadata": {},
     "output_type": "execute_result"
    },
    {
     "data": {
      "image/png": "[encoded data removed]",
      "text/plain": [
       "<Figure size 640x480 with 1 Axes>"
      ]
     },
     "metadata": {},
     "output_type": "display_data"
    }
   ],
   "source": [
    "plt.bar(x=df_bikes[\"rideable_type\"], height=df_bikes[\"time_length (min)\"])"
   ]
  },
  {
   "cell_type": "code",
   "execution_count": 51,
   "id": "f52910ec",
   "metadata": {},
   "outputs": [
    {
     "data": {
      "text/plain": [
       "<BarContainer object of 258678 artists>"
      ]
     },
     "execution_count": 51,
     "metadata": {},
     "output_type": "execute_result"
    },
    {
     "data": {
      "image/png": "[encoded data removed]",
      "text/plain": [
       "<Figure size 640x480 with 1 Axes>"
      ]
     },
     "metadata": {},
     "output_type": "display_data"
    }
   ],
   "source": [
    "plt.bar(x=df_bikes[\"member_casual\"], height=df_bikes[\"rideable_type\"])"
   ]
  },
  {
   "cell_type": "code",
   "execution_count": 52,
   "id": "51a915ff",
   "metadata": {},
   "outputs": [
    {
     "data": {
      "text/plain": [
       "(array([148575.,      0.,      0.,      0.,      0., 107083.,      0.,\n",
       "             0.,      0.,   3020.]),\n",
       " array([0. , 0.2, 0.4, 0.6, 0.8, 1. , 1.2, 1.4, 1.6, 1.8, 2. ]),\n",
       " <BarContainer object of 10 artists>)"
      ]
     },
     "execution_count": 52,
     "metadata": {},
     "output_type": "execute_result"
    },
    {
     "data": {
      "image/png": "[encoded data removed]",
      "text/plain": [
       "<Figure size 640x480 with 1 Axes>"
      ]
     },
     "metadata": {},
     "output_type": "display_data"
    }
   ],
   "source": [
    "plt.hist(x=df_bikes[\"rideable_type\"])"
   ]
  },
  {
   "cell_type": "code",
   "execution_count": 53,
   "id": "a0aa56ef",
   "metadata": {},
   "outputs": [
    {
     "data": {
      "text/plain": [
       "(array([196477.,      0.,      0.,      0.,      0.,      0.,      0.,\n",
       "             0.,      0.,  62201.]),\n",
       " array([0. , 0.1, 0.2, 0.3, 0.4, 0.5, 0.6, 0.7, 0.8, 0.9, 1. ]),\n",
       " <BarContainer object of 10 artists>)"
      ]
     },
     "execution_count": 53,
     "metadata": {},
     "output_type": "execute_result"
    },
    {
     "data": {
      "image/png": "[encoded data removed]",
      "text/plain": [
       "<Figure size 640x480 with 1 Axes>"
      ]
     },
     "metadata": {},
     "output_type": "display_data"
    }
   ],
   "source": [
    "plt.hist(x=df_bikes[\"member_casual\"])"
   ]
  },
  {
   "cell_type": "code",
   "execution_count": null,
   "id": "18c8c042",
   "metadata": {},
   "outputs": [
    {
     "data": {
      "text/html": [
       "<div>\n",
       "<style scoped>\n",
       "    .dataframe tbody tr th:only-of-type {\n",
       "        vertical-align: middle;\n",
       "    }\n",
       "\n",
       "    .dataframe tbody tr th {\n",
       "        vertical-align: top;\n",
       "    }\n",
       "\n",
       "    .dataframe thead th {\n",
       "        text-align: right;\n",
       "    }\n",
       "</style>\n",
       "<table border=\"1\" class=\"dataframe\">\n",
       "  <thead>\n",
       "    <tr style=\"text-align: right;\">\n",
       "      <th></th>\n",
       "      <th>time_length (min)</th>\n",
       "    </tr>\n",
       "  </thead>\n",
       "  <tbody>\n",
       "    <tr>\n",
       "      <th>count</th>\n",
       "      <td>258678.000000</td>\n",
       "    </tr>\n",
       "    <tr>\n",
       "      <th>mean</th>\n",
       "      <td>13.080050</td>\n",
       "    </tr>\n",
       "    <tr>\n",
       "      <th>std</th>\n",
       "      <td>98.190841</td>\n",
       "    </tr>\n",
       "    <tr>\n",
       "      <th>min</th>\n",
       "      <td>0.000000</td>\n",
       "    </tr>\n",
       "    <tr>\n",
       "      <th>25%</th>\n",
       "      <td>4.433333</td>\n",
       "    </tr>\n",
       "    <tr>\n",
       "      <th>50%</th>\n",
       "      <td>7.500000</td>\n",
       "    </tr>\n",
       "    <tr>\n",
       "      <th>75%</th>\n",
       "      <td>12.833333</td>\n",
       "    </tr>\n",
       "    <tr>\n",
       "      <th>max</th>\n",
       "      <td>16808.066667</td>\n",
       "    </tr>\n",
       "  </tbody>\n",
       "</table>\n",
       "</div>"
      ],
      "text/plain": [
       "       time_length (min)\n",
       "count      258678.000000\n",
       "mean           13.080050\n",
       "std            98.190841\n",
       "min             0.000000\n",
       "25%             4.433333\n",
       "50%             7.500000\n",
       "75%            12.833333\n",
       "max         16808.066667"
      ]
     },
     "execution_count": 32,
     "metadata": {},
     "output_type": "execute_result"
    }
   ],
   "source": [
    "df_bikes.describe()"
   ]
  },
  {
   "attachments": {},
   "cell_type": "markdown",
   "id": "47fa3c78",
   "metadata": {},
   "source": [
    "Recall that we have categorical values, that is, columns that have classifications as object type (rideable_type, member_casual).\n",
    "For these type of columns we may want to use One Hot Encoding or dummies."
   ]
  },
  {
   "cell_type": "markdown",
   "id": "411a608b",
   "metadata": {},
   "source": []
  }
 ],
 "metadata": {
  "kernelspec": {
   "display_name": "Python 3.10.8 64-bit",
   "language": "python",
   "name": "python3"
  },
  "language_info": {
   "codemirror_mode": {
    "name": "ipython",
    "version": 3
   },
   "file_extension": ".py",
   "mimetype": "text/x-python",
   "name": "python",
   "nbconvert_exporter": "python",
   "pygments_lexer": "ipython3",
   "version": "3.11.2"
  },
  "vscode": {
   "interpreter": {
    "hash": "d7546de2d5b66e6bb4051f93f462cf1f21acc5c70ac66712f7c9fa60f386dd80"
   }
  }
 },
 "nbformat": 4,
 "nbformat_minor": 5
}
