{
 "cells": [
  {
   "cell_type": "code",
   "execution_count": 21,
   "id": "cb4fb77d",
   "metadata": {},
   "outputs": [],
   "source": [
    "# importing libraries to use\n",
    "import pandas as pd \n",
    "from datetime import datetime\n",
    "import matplotlib.pyplot as plt"
   ]
  },
  {
   "cell_type": "code",
<<<<<<< HEAD
   "execution_count": 2,
=======
   "execution_count": 22,
>>>>>>> parent of 82028c4 (Added more comparisons between Cyclistic's users)
   "id": "e0c09a8d",
   "metadata": {},
   "outputs": [
    {
     "name": "stdout",
     "output_type": "stream",
     "text": [
      "Cyclistic's dataframe has 258678 rows and 13 columns\n"
     ]
    }
   ],
   "source": [
    "df_bikes = pd.read_csv(\"Trip_Data_032023.csv\")\n",
    "\n",
    "# Let's take a look at the data size we're dealing with:\n",
    "print(\"Cyclistic's dataframe has\", df_bikes.shape[0], \"rows and\", df_bikes.shape[1], \"columns\")"
   ]
  },
  {
   "cell_type": "code",
   "execution_count": 23,
   "id": "c4f3df16",
   "metadata": {},
   "outputs": [
    {
     "data": {
      "text/html": [
       "<div>\n",
       "<style scoped>\n",
       "    .dataframe tbody tr th:only-of-type {\n",
       "        vertical-align: middle;\n",
       "    }\n",
       "\n",
       "    .dataframe tbody tr th {\n",
       "        vertical-align: top;\n",
       "    }\n",
       "\n",
       "    .dataframe thead th {\n",
       "        text-align: right;\n",
       "    }\n",
       "</style>\n",
       "<table border=\"1\" class=\"dataframe\">\n",
       "  <thead>\n",
       "    <tr style=\"text-align: right;\">\n",
       "      <th></th>\n",
       "      <th>ride_id</th>\n",
       "      <th>rideable_type</th>\n",
       "      <th>started_at</th>\n",
       "      <th>ended_at</th>\n",
       "      <th>start_station_name</th>\n",
       "      <th>start_station_id</th>\n",
       "      <th>end_station_name</th>\n",
       "      <th>end_station_id</th>\n",
       "      <th>start_lat</th>\n",
       "      <th>start_lng</th>\n",
       "      <th>end_lat</th>\n",
       "      <th>end_lng</th>\n",
       "      <th>member_casual</th>\n",
       "    </tr>\n",
       "  </thead>\n",
       "  <tbody>\n",
       "    <tr>\n",
       "      <th>0</th>\n",
       "      <td>6842AA605EE9FBB3</td>\n",
       "      <td>electric_bike</td>\n",
       "      <td>2023-03-16 08:20:34</td>\n",
       "      <td>2023-03-16 08:22:52</td>\n",
       "      <td>Clark St &amp; Armitage Ave</td>\n",
       "      <td>13146</td>\n",
       "      <td>Larrabee St &amp; Webster Ave</td>\n",
       "      <td>13193</td>\n",
       "      <td>41.918413</td>\n",
       "      <td>-87.636451</td>\n",
       "      <td>41.921822</td>\n",
       "      <td>-87.644140</td>\n",
       "      <td>member</td>\n",
       "    </tr>\n",
       "    <tr>\n",
       "      <th>1</th>\n",
       "      <td>F984267A75B99A8C</td>\n",
       "      <td>electric_bike</td>\n",
       "      <td>2023-03-04 14:07:06</td>\n",
       "      <td>2023-03-04 14:15:31</td>\n",
       "      <td>Public Rack - Kedzie Ave &amp; Argyle St</td>\n",
       "      <td>491</td>\n",
       "      <td>NaN</td>\n",
       "      <td>NaN</td>\n",
       "      <td>41.970000</td>\n",
       "      <td>-87.710000</td>\n",
       "      <td>41.950000</td>\n",
       "      <td>-87.710000</td>\n",
       "      <td>member</td>\n",
       "    </tr>\n",
       "    <tr>\n",
       "      <th>2</th>\n",
       "      <td>FF7CF57CFE026D02</td>\n",
       "      <td>classic_bike</td>\n",
       "      <td>2023-03-31 12:28:09</td>\n",
       "      <td>2023-03-31 12:38:47</td>\n",
       "      <td>Orleans St &amp; Chestnut St (NEXT Apts)</td>\n",
       "      <td>620</td>\n",
       "      <td>Clark St &amp; Randolph St</td>\n",
       "      <td>TA1305000030</td>\n",
       "      <td>41.898203</td>\n",
       "      <td>-87.637536</td>\n",
       "      <td>41.884576</td>\n",
       "      <td>-87.631890</td>\n",
       "      <td>member</td>\n",
       "    </tr>\n",
       "    <tr>\n",
       "      <th>3</th>\n",
       "      <td>6B61B916032CB6D6</td>\n",
       "      <td>classic_bike</td>\n",
       "      <td>2023-03-22 14:09:08</td>\n",
       "      <td>2023-03-22 14:24:51</td>\n",
       "      <td>Desplaines St &amp; Kinzie St</td>\n",
       "      <td>TA1306000003</td>\n",
       "      <td>Sheffield Ave &amp; Kingsbury St</td>\n",
       "      <td>13154</td>\n",
       "      <td>41.888716</td>\n",
       "      <td>-87.644448</td>\n",
       "      <td>41.910522</td>\n",
       "      <td>-87.653106</td>\n",
       "      <td>member</td>\n",
       "    </tr>\n",
       "    <tr>\n",
       "      <th>4</th>\n",
       "      <td>E55E61A5F1260040</td>\n",
       "      <td>electric_bike</td>\n",
       "      <td>2023-03-09 07:15:00</td>\n",
       "      <td>2023-03-09 07:26:00</td>\n",
       "      <td>Walsh Park</td>\n",
       "      <td>18067</td>\n",
       "      <td>Sangamon St &amp; Lake St</td>\n",
       "      <td>TA1306000015</td>\n",
       "      <td>41.914480</td>\n",
       "      <td>-87.668013</td>\n",
       "      <td>41.885779</td>\n",
       "      <td>-87.651025</td>\n",
       "      <td>member</td>\n",
       "    </tr>\n",
       "  </tbody>\n",
       "</table>\n",
       "</div>"
      ],
      "text/plain": [
       "            ride_id  rideable_type           started_at             ended_at  \\\n",
       "0  6842AA605EE9FBB3  electric_bike  2023-03-16 08:20:34  2023-03-16 08:22:52   \n",
       "1  F984267A75B99A8C  electric_bike  2023-03-04 14:07:06  2023-03-04 14:15:31   \n",
       "2  FF7CF57CFE026D02   classic_bike  2023-03-31 12:28:09  2023-03-31 12:38:47   \n",
       "3  6B61B916032CB6D6   classic_bike  2023-03-22 14:09:08  2023-03-22 14:24:51   \n",
       "4  E55E61A5F1260040  electric_bike  2023-03-09 07:15:00  2023-03-09 07:26:00   \n",
       "\n",
       "                     start_station_name start_station_id  \\\n",
       "0               Clark St & Armitage Ave            13146   \n",
       "1  Public Rack - Kedzie Ave & Argyle St              491   \n",
       "2  Orleans St & Chestnut St (NEXT Apts)              620   \n",
       "3             Desplaines St & Kinzie St     TA1306000003   \n",
       "4                            Walsh Park            18067   \n",
       "\n",
       "               end_station_name end_station_id  start_lat  start_lng  \\\n",
       "0     Larrabee St & Webster Ave          13193  41.918413 -87.636451   \n",
       "1                           NaN            NaN  41.970000 -87.710000   \n",
       "2        Clark St & Randolph St   TA1305000030  41.898203 -87.637536   \n",
       "3  Sheffield Ave & Kingsbury St          13154  41.888716 -87.644448   \n",
       "4         Sangamon St & Lake St   TA1306000015  41.914480 -87.668013   \n",
       "\n",
       "     end_lat    end_lng member_casual  \n",
       "0  41.921822 -87.644140        member  \n",
       "1  41.950000 -87.710000        member  \n",
       "2  41.884576 -87.631890        member  \n",
       "3  41.910522 -87.653106        member  \n",
       "4  41.885779 -87.651025        member  "
      ]
     },
     "execution_count": 23,
     "metadata": {},
     "output_type": "execute_result"
    }
   ],
   "source": [
    "# Taking a quick look at the first 5 rows of the dataframe:\n",
    "df_bikes.head()"
   ]
  },
  {
   "cell_type": "code",
<<<<<<< HEAD
   "execution_count": 4,
   "id": "0443c0b9",
   "metadata": {},
   "outputs": [
    {
     "data": {
      "text/plain": [
       "False    258678\n",
       "dtype: int64"
      ]
     },
     "execution_count": 4,
     "metadata": {},
     "output_type": "execute_result"
    }
   ],
   "source": [
    "# Checking if there is any duplicated value in the dataframe:\n",
    "df_bikes.duplicated().value_counts()"
   ]
  },
  {
   "cell_type": "code",
   "execution_count": 5,
=======
   "execution_count": 24,
>>>>>>> parent of 82028c4 (Added more comparisons between Cyclistic's users)
   "id": "185ee37d-ec1f-4129-8f89-5ae032568ff6",
   "metadata": {},
   "outputs": [
    {
     "name": "stdout",
     "output_type": "stream",
     "text": [
      "<class 'pandas.core.frame.DataFrame'>\n",
      "RangeIndex: 258678 entries, 0 to 258677\n",
      "Data columns (total 13 columns):\n",
      " #   Column              Non-Null Count   Dtype  \n",
      "---  ------              --------------   -----  \n",
      " 0   ride_id             258678 non-null  object \n",
      " 1   rideable_type       258678 non-null  object \n",
      " 2   started_at          258678 non-null  object \n",
      " 3   ended_at            258678 non-null  object \n",
      " 4   start_station_name  222768 non-null  object \n",
      " 5   start_station_id    222768 non-null  object \n",
      " 6   end_station_name    220240 non-null  object \n",
      " 7   end_station_id      220240 non-null  object \n",
      " 8   start_lat           258678 non-null  float64\n",
      " 9   start_lng           258678 non-null  float64\n",
      " 10  end_lat             258495 non-null  float64\n",
      " 11  end_lng             258495 non-null  float64\n",
      " 12  member_casual       258678 non-null  object \n",
      "dtypes: float64(4), object(9)\n",
      "memory usage: 25.7+ MB\n"
     ]
    }
   ],
   "source": [
    "# We can also check for the type of data that there is in each column:\n",
    "# df_bikes.dtypes\n",
    "df_bikes.info()"
   ]
  },
  {
   "cell_type": "code",
<<<<<<< HEAD
   "execution_count": 6,
=======
   "execution_count": 25,
>>>>>>> parent of 82028c4 (Added more comparisons between Cyclistic's users)
   "id": "2dbdc046",
   "metadata": {},
   "outputs": [],
   "source": [
    "# Columns 'started at' and 'ended at' are not an object type, so, we should change that:\n",
    "df_bikes['started_at'] = pd.to_datetime(df_bikes['started_at'])\n",
    "df_bikes['ended_at'] = pd.to_datetime(df_bikes['ended_at'])"
   ]
  },
  {
   "cell_type": "code",
<<<<<<< HEAD
   "execution_count": 7,
=======
   "execution_count": 26,
>>>>>>> parent of 82028c4 (Added more comparisons between Cyclistic's users)
   "id": "a98fe3c7",
   "metadata": {},
   "outputs": [
    {
     "data": {
      "text/plain": [
       "ride_id                       object\n",
       "rideable_type                 object\n",
       "started_at            datetime64[ns]\n",
       "ended_at              datetime64[ns]\n",
       "start_station_name            object\n",
       "start_station_id              object\n",
       "end_station_name              object\n",
       "end_station_id                object\n",
       "start_lat                    float64\n",
       "start_lng                    float64\n",
       "end_lat                      float64\n",
       "end_lng                      float64\n",
       "member_casual                 object\n",
       "dtype: object"
      ]
     },
<<<<<<< HEAD
     "execution_count": 7,
=======
     "execution_count": 26,
>>>>>>> parent of 82028c4 (Added more comparisons between Cyclistic's users)
     "metadata": {},
     "output_type": "execute_result"
    }
   ],
   "source": [
    "# We can now check again if it's changed or not:\n",
    "df_bikes.dtypes"
   ]
  },
  {
   "cell_type": "markdown",
   "id": "f9af75f5",
   "metadata": {},
   "source": [
    "The types are correct in relation to info displayed in the dataframe."
   ]
  },
  {
   "cell_type": "code",
<<<<<<< HEAD
   "execution_count": 8,
=======
   "execution_count": 27,
>>>>>>> parent of 82028c4 (Added more comparisons between Cyclistic's users)
   "id": "cfa94e7b",
   "metadata": {},
   "outputs": [
    {
     "name": "stdout",
     "output_type": "stream",
     "text": [
      "The column 'rideable_type' has 3 different types of bikes registered, which are electric_bike 148575 classic_bike 107083 and docked_bike 3020\n"
     ]
    }
   ],
   "source": [
    "# We have some columns that have different types of data in it that may be worth to look at.\n",
    "print(\"The column 'rideable_type' has\", df_bikes['rideable_type'].nunique(), \"different types of bikes registered, which are\",\n",
    "     df_bikes['rideable_type'].unique()[0], df_bikes['rideable_type'].value_counts()[0],\n",
    "      df_bikes['rideable_type'].unique()[1], df_bikes['rideable_type'].value_counts()[1], \"and\",\n",
    "       df_bikes['rideable_type'].unique()[2], df_bikes['rideable_type'].value_counts()[2] )\n"
   ]
  },
  {
   "cell_type": "code",
<<<<<<< HEAD
   "execution_count": 24,
=======
   "execution_count": 28,
>>>>>>> parent of 82028c4 (Added more comparisons between Cyclistic's users)
   "id": "ce19ec05",
   "metadata": {},
   "outputs": [
    {
     "name": "stdout",
     "output_type": "stream",
     "text": [
      "There are 2 different types of members registered, which are member 196477 ( 75.9542751992825 %) and casual 62201 ( 24.045724800717494 %)\n"
     ]
    }
   ],
   "source": [
    "# We can also see what types of members have been registered in this dataframe and how many for each:\n",
    "print(\"There are\", df_bikes['member_casual'].nunique(), \"different types of members registered, which are\",\n",
    "     df_bikes['member_casual'].unique()[0], df_bikes['member_casual'].value_counts()[0], \"and\",\n",
    "      df_bikes['member_casual'].unique()[1], df_bikes['member_casual'].value_counts()[1], \"(\",casual_percentage,\"%)\" )"
   ]
  },
  {
   "cell_type": "code",
<<<<<<< HEAD
   "execution_count": 28,
   "id": "005deabf",
   "metadata": {},
   "outputs": [
    {
     "name": "stdout",
     "output_type": "stream",
     "text": [
      "Percentage of Member users (%): 75.954 Percentage of Casual users (%): 24.046\n"
     ]
    }
   ],
   "source": [
    "# In percentage this is represented as:\n",
    "member_percentage = (df_bikes['member_casual'].value_counts()[0]/df_bikes['member_casual'].value_counts().sum())*100\n",
    "casual_percentage = (df_bikes['member_casual'].value_counts()[1]/df_bikes['member_casual'].value_counts().sum())*100\n",
    "print(\"Percentage of Member users (%):\", round(member_percentage, 3),\n",
    "      \"Percentage of Casual users (%):\", round(casual_percentage, 3))"
   ]
  },
  {
   "attachments": {},
   "cell_type": "markdown",
   "id": "67f6e264",
   "metadata": {},
   "source": [
    "From the data we can see that the majority of users are members with ~76% from the total registered and casual users with ~24%."
   ]
  },
  {
   "cell_type": "code",
   "execution_count": 10,
=======
   "execution_count": 29,
>>>>>>> parent of 82028c4 (Added more comparisons between Cyclistic's users)
   "id": "d7fdb10a",
   "metadata": {},
   "outputs": [
    {
     "data": {
      "text/plain": [
       "ride_id                   0\n",
       "rideable_type             0\n",
       "started_at                0\n",
       "ended_at                  0\n",
       "start_station_name    35910\n",
       "start_station_id      35910\n",
       "end_station_name      38438\n",
       "end_station_id        38438\n",
       "start_lat                 0\n",
       "start_lng                 0\n",
       "end_lat                 183\n",
       "end_lng                 183\n",
       "member_casual             0\n",
       "dtype: int64"
      ]
     },
<<<<<<< HEAD
     "execution_count": 10,
=======
     "execution_count": 29,
>>>>>>> parent of 82028c4 (Added more comparisons between Cyclistic's users)
     "metadata": {},
     "output_type": "execute_result"
    }
   ],
   "source": [
    "# Let's consider now the nan values that may have been registered, first we'll check if they exist in the dataframe:\n",
    "df_bikes.isna().sum()"
   ]
  },
  {
   "cell_type": "code",
<<<<<<< HEAD
   "execution_count": 11,
=======
   "execution_count": 30,
>>>>>>> parent of 82028c4 (Added more comparisons between Cyclistic's users)
   "id": "569958a0-82c3-4b5f-8b5a-60f8a1e60b14",
   "metadata": {},
   "outputs": [
    {
     "name": "stdout",
     "output_type": "stream",
     "text": [
      "As percentages, the NaN values in the current data set would be:\n",
      " ride_id                0.000000\n",
      "rideable_type          0.000000\n",
      "started_at             0.000000\n",
      "ended_at               0.000000\n",
      "start_station_name    16.119910\n",
      "start_station_id      16.119910\n",
      "end_station_name      17.452779\n",
      "end_station_id        17.452779\n",
      "start_lat              0.000000\n",
      "start_lng              0.000000\n",
      "end_lat                0.070794\n",
      "end_lng                0.070794\n",
      "member_casual          0.000000\n",
      "dtype: float64\n"
     ]
    }
   ],
   "source": [
    "print(\"As percentages, the NaN values in the current data set would be:\\n\",\n",
    "      (df_bikes.isna().sum()/df_bikes.count())*100)"
   ]
  },
  {
   "cell_type": "code",
   "execution_count": 29,
   "id": "59dd3cbb",
   "metadata": {},
   "outputs": [
    {
     "data": {
      "text/plain": [
       "988"
      ]
     },
     "execution_count": 29,
     "metadata": {},
     "output_type": "execute_result"
    }
   ],
   "source": [
    "df_bikes.start_station_name.nunique()"
   ]
  },
  {
   "attachments": {},
   "cell_type": "markdown",
   "id": "fad619ec-2a7b-4198-90ed-38b3b539b787",
   "metadata": {},
   "source": [
    "We have between 0% and ~15% of NaN values in the location columns. So far we've seen that according to the company's needs we're looking to have more member users rather than casual users, so it'd be good to consider how consistent the users are, through the time data. \n",
    "\n",
    "For this reason, we're going to be considering the time columns and geolocation (long, lat) and disregard the location ones, besides this, there are over 900 station names so there isn't a pattern that can be easily identified from that data.\n",
    "\n",
    "And at the same time, regardless of the location, the user still wants to use the service for transportation, easy-to-use, money-saving reasons."
   ]
  },
  {
   "cell_type": "code",
<<<<<<< HEAD
   "execution_count": 30,
=======
   "execution_count": 31,
>>>>>>> parent of 82028c4 (Added more comparisons between Cyclistic's users)
   "id": "916729ce-5ba4-440f-b277-801bfc0d929d",
   "metadata": {},
   "outputs": [
    {
     "data": {
      "text/plain": [
       "rideable_type    0\n",
       "started_at       0\n",
       "ended_at         0\n",
       "start_lat        0\n",
       "start_lng        0\n",
       "member_casual    0\n",
       "dtype: int64"
      ]
     },
<<<<<<< HEAD
     "execution_count": 30,
=======
     "execution_count": 31,
>>>>>>> parent of 82028c4 (Added more comparisons between Cyclistic's users)
     "metadata": {},
     "output_type": "execute_result"
    }
   ],
   "source": [
    "# Removing al NaN columns (columns with the geolocation/location data):\n",
    "df_bikes.dropna(axis=1, inplace=True) # Using dropna for those that NaNs\n",
    "df_bikes.drop(columns=[\"ride_id\"], inplace = True) # The ride ID is not a necessary feature in which our results may depend or vary\n",
    "df_bikes.isna().sum()"
   ]
  },
  {
   "cell_type": "code",
<<<<<<< HEAD
   "execution_count": 31,
=======
   "execution_count": 32,
>>>>>>> parent of 82028c4 (Added more comparisons between Cyclistic's users)
   "id": "3d5b8987-9e73-4a94-95af-0b9d22ea5c6c",
   "metadata": {},
   "outputs": [
    {
     "data": {
      "text/html": [
       "<div>\n",
       "<style scoped>\n",
       "    .dataframe tbody tr th:only-of-type {\n",
       "        vertical-align: middle;\n",
       "    }\n",
       "\n",
       "    .dataframe tbody tr th {\n",
       "        vertical-align: top;\n",
       "    }\n",
       "\n",
       "    .dataframe thead th {\n",
       "        text-align: right;\n",
       "    }\n",
       "</style>\n",
       "<table border=\"1\" class=\"dataframe\">\n",
       "  <thead>\n",
       "    <tr style=\"text-align: right;\">\n",
       "      <th></th>\n",
       "      <th>rideable_type</th>\n",
       "      <th>started_at</th>\n",
       "      <th>ended_at</th>\n",
       "      <th>start_lat</th>\n",
       "      <th>start_lng</th>\n",
       "      <th>member_casual</th>\n",
       "    </tr>\n",
       "  </thead>\n",
       "  <tbody>\n",
       "    <tr>\n",
       "      <th>0</th>\n",
       "      <td>electric_bike</td>\n",
       "      <td>2023-03-16 08:20:34</td>\n",
       "      <td>2023-03-16 08:22:52</td>\n",
       "      <td>41.918413</td>\n",
       "      <td>-87.636451</td>\n",
       "      <td>member</td>\n",
       "    </tr>\n",
       "    <tr>\n",
       "      <th>1</th>\n",
       "      <td>electric_bike</td>\n",
       "      <td>2023-03-04 14:07:06</td>\n",
       "      <td>2023-03-04 14:15:31</td>\n",
       "      <td>41.970000</td>\n",
       "      <td>-87.710000</td>\n",
       "      <td>member</td>\n",
       "    </tr>\n",
       "    <tr>\n",
       "      <th>2</th>\n",
       "      <td>classic_bike</td>\n",
       "      <td>2023-03-31 12:28:09</td>\n",
       "      <td>2023-03-31 12:38:47</td>\n",
       "      <td>41.898203</td>\n",
       "      <td>-87.637536</td>\n",
       "      <td>member</td>\n",
       "    </tr>\n",
       "  </tbody>\n",
       "</table>\n",
       "</div>"
      ],
      "text/plain": [
       "   rideable_type          started_at            ended_at  start_lat  \\\n",
       "0  electric_bike 2023-03-16 08:20:34 2023-03-16 08:22:52  41.918413   \n",
       "1  electric_bike 2023-03-04 14:07:06 2023-03-04 14:15:31  41.970000   \n",
       "2   classic_bike 2023-03-31 12:28:09 2023-03-31 12:38:47  41.898203   \n",
       "\n",
       "   start_lng member_casual  \n",
       "0 -87.636451        member  \n",
       "1 -87.710000        member  \n",
       "2 -87.637536        member  "
      ]
     },
<<<<<<< HEAD
     "execution_count": 31,
=======
     "execution_count": 32,
>>>>>>> parent of 82028c4 (Added more comparisons between Cyclistic's users)
     "metadata": {},
     "output_type": "execute_result"
    }
   ],
   "source": [
    "df_bikes.head(3)"
   ]
  },
  {
   "cell_type": "markdown",
   "id": "ebfe7618-cdbc-497e-b872-e7977a8bebc7",
   "metadata": {},
   "source": [
    "We can now take a deeper look into the user's preference when it comes to the type of bike and how much time they spend using the service."
   ]
  },
  {
   "cell_type": "code",
<<<<<<< HEAD
   "execution_count": 14,
=======
   "execution_count": 33,
>>>>>>> parent of 82028c4 (Added more comparisons between Cyclistic's users)
   "id": "9e29aee2-267d-416e-82a5-13ea2d715eba",
   "metadata": {},
   "outputs": [
    {
     "data": {
      "text/html": [
       "<div>\n",
       "<style scoped>\n",
       "    .dataframe tbody tr th:only-of-type {\n",
       "        vertical-align: middle;\n",
       "    }\n",
       "\n",
       "    .dataframe tbody tr th {\n",
       "        vertical-align: top;\n",
       "    }\n",
       "\n",
       "    .dataframe thead th {\n",
       "        text-align: right;\n",
       "    }\n",
       "</style>\n",
       "<table border=\"1\" class=\"dataframe\">\n",
       "  <thead>\n",
       "    <tr style=\"text-align: right;\">\n",
       "      <th></th>\n",
       "      <th>rideable_type</th>\n",
       "      <th>started_at</th>\n",
       "      <th>ended_at</th>\n",
       "      <th>member_casual</th>\n",
       "      <th>time_length</th>\n",
       "    </tr>\n",
       "  </thead>\n",
       "  <tbody>\n",
       "    <tr>\n",
       "      <th>0</th>\n",
       "      <td>electric_bike</td>\n",
       "      <td>2023-03-16 08:20:34</td>\n",
       "      <td>2023-03-16 08:22:52</td>\n",
       "      <td>member</td>\n",
       "      <td>0 days 00:02:18</td>\n",
       "    </tr>\n",
       "    <tr>\n",
       "      <th>1</th>\n",
       "      <td>electric_bike</td>\n",
       "      <td>2023-03-04 14:07:06</td>\n",
       "      <td>2023-03-04 14:15:31</td>\n",
       "      <td>member</td>\n",
       "      <td>0 days 00:08:25</td>\n",
       "    </tr>\n",
       "    <tr>\n",
       "      <th>2</th>\n",
       "      <td>classic_bike</td>\n",
       "      <td>2023-03-31 12:28:09</td>\n",
       "      <td>2023-03-31 12:38:47</td>\n",
       "      <td>member</td>\n",
       "      <td>0 days 00:10:38</td>\n",
       "    </tr>\n",
       "    <tr>\n",
       "      <th>3</th>\n",
       "      <td>classic_bike</td>\n",
       "      <td>2023-03-22 14:09:08</td>\n",
       "      <td>2023-03-22 14:24:51</td>\n",
       "      <td>member</td>\n",
       "      <td>0 days 00:15:43</td>\n",
       "    </tr>\n",
       "    <tr>\n",
       "      <th>4</th>\n",
       "      <td>electric_bike</td>\n",
       "      <td>2023-03-09 07:15:00</td>\n",
       "      <td>2023-03-09 07:26:00</td>\n",
       "      <td>member</td>\n",
       "      <td>0 days 00:11:00</td>\n",
       "    </tr>\n",
       "    <tr>\n",
       "      <th>...</th>\n",
       "      <td>...</td>\n",
       "      <td>...</td>\n",
       "      <td>...</td>\n",
       "      <td>...</td>\n",
       "      <td>...</td>\n",
       "    </tr>\n",
       "    <tr>\n",
       "      <th>258673</th>\n",
       "      <td>electric_bike</td>\n",
       "      <td>2023-03-08 00:00:02</td>\n",
       "      <td>2023-03-08 00:06:25</td>\n",
       "      <td>member</td>\n",
       "      <td>0 days 00:06:23</td>\n",
       "    </tr>\n",
       "    <tr>\n",
       "      <th>258674</th>\n",
       "      <td>classic_bike</td>\n",
       "      <td>2023-03-21 14:24:42</td>\n",
       "      <td>2023-03-21 14:50:45</td>\n",
       "      <td>member</td>\n",
       "      <td>0 days 00:26:03</td>\n",
       "    </tr>\n",
       "    <tr>\n",
       "      <th>258675</th>\n",
       "      <td>electric_bike</td>\n",
       "      <td>2023-03-21 16:48:52</td>\n",
       "      <td>2023-03-21 16:51:27</td>\n",
       "      <td>member</td>\n",
       "      <td>0 days 00:02:35</td>\n",
       "    </tr>\n",
       "    <tr>\n",
       "      <th>258676</th>\n",
       "      <td>classic_bike</td>\n",
       "      <td>2023-03-16 20:36:05</td>\n",
       "      <td>2023-03-16 20:43:11</td>\n",
       "      <td>member</td>\n",
       "      <td>0 days 00:07:06</td>\n",
       "    </tr>\n",
       "    <tr>\n",
       "      <th>258677</th>\n",
       "      <td>electric_bike</td>\n",
       "      <td>2023-03-27 19:58:08</td>\n",
       "      <td>2023-03-27 20:03:52</td>\n",
       "      <td>member</td>\n",
       "      <td>0 days 00:05:44</td>\n",
       "    </tr>\n",
       "  </tbody>\n",
       "</table>\n",
       "<p>258678 rows × 5 columns</p>\n",
       "</div>"
      ],
      "text/plain": [
       "        rideable_type          started_at            ended_at member_casual  \\\n",
       "0       electric_bike 2023-03-16 08:20:34 2023-03-16 08:22:52        member   \n",
       "1       electric_bike 2023-03-04 14:07:06 2023-03-04 14:15:31        member   \n",
       "2        classic_bike 2023-03-31 12:28:09 2023-03-31 12:38:47        member   \n",
       "3        classic_bike 2023-03-22 14:09:08 2023-03-22 14:24:51        member   \n",
       "4       electric_bike 2023-03-09 07:15:00 2023-03-09 07:26:00        member   \n",
       "...               ...                 ...                 ...           ...   \n",
       "258673  electric_bike 2023-03-08 00:00:02 2023-03-08 00:06:25        member   \n",
       "258674   classic_bike 2023-03-21 14:24:42 2023-03-21 14:50:45        member   \n",
       "258675  electric_bike 2023-03-21 16:48:52 2023-03-21 16:51:27        member   \n",
       "258676   classic_bike 2023-03-16 20:36:05 2023-03-16 20:43:11        member   \n",
       "258677  electric_bike 2023-03-27 19:58:08 2023-03-27 20:03:52        member   \n",
       "\n",
       "           time_length  \n",
       "0      0 days 00:02:18  \n",
       "1      0 days 00:08:25  \n",
       "2      0 days 00:10:38  \n",
       "3      0 days 00:15:43  \n",
       "4      0 days 00:11:00  \n",
       "...                ...  \n",
       "258673 0 days 00:06:23  \n",
       "258674 0 days 00:26:03  \n",
       "258675 0 days 00:02:35  \n",
       "258676 0 days 00:07:06  \n",
       "258677 0 days 00:05:44  \n",
       "\n",
       "[258678 rows x 5 columns]"
      ]
     },
<<<<<<< HEAD
     "execution_count": 14,
=======
     "execution_count": 33,
>>>>>>> parent of 82028c4 (Added more comparisons between Cyclistic's users)
     "metadata": {},
     "output_type": "execute_result"
    }
   ],
   "source": [
    "df_bikes[\"time_length\"]=df_bikes[\"ended_at\"]-df_bikes[\"started_at\"]\n",
    "df_bikes"
   ]
  },
  {
   "cell_type": "code",
<<<<<<< HEAD
   "execution_count": 15,
=======
   "execution_count": 34,
>>>>>>> parent of 82028c4 (Added more comparisons between Cyclistic's users)
   "id": "9955a765-d973-4c07-98e4-bbc94e84dae3",
   "metadata": {},
   "outputs": [
    {
     "data": {
      "text/plain": [
       "rideable_type             object\n",
       "started_at        datetime64[ns]\n",
       "ended_at          datetime64[ns]\n",
       "member_casual             object\n",
       "time_length      timedelta64[ns]\n",
       "dtype: object"
      ]
     },
<<<<<<< HEAD
     "execution_count": 15,
=======
     "execution_count": 34,
>>>>>>> parent of 82028c4 (Added more comparisons between Cyclistic's users)
     "metadata": {},
     "output_type": "execute_result"
    }
   ],
   "source": [
    "df_bikes.dtypes"
   ]
  },
  {
   "cell_type": "code",
<<<<<<< HEAD
   "execution_count": 16,
=======
   "execution_count": 35,
>>>>>>> parent of 82028c4 (Added more comparisons between Cyclistic's users)
   "id": "721e53e8-926a-4db1-8d2f-b3a6905c1307",
   "metadata": {},
   "outputs": [
    {
     "data": {
      "text/plain": [
       "count                       258678\n",
       "mean     0 days 00:13:04.803017651\n",
       "std      0 days 01:38:11.450462766\n",
       "min                0 days 00:00:00\n",
       "25%                0 days 00:04:26\n",
       "50%                0 days 00:07:30\n",
       "75%                0 days 00:12:50\n",
       "max               11 days 16:08:04\n",
       "Name: time_length, dtype: object"
      ]
     },
<<<<<<< HEAD
     "execution_count": 16,
=======
     "execution_count": 35,
>>>>>>> parent of 82028c4 (Added more comparisons between Cyclistic's users)
     "metadata": {},
     "output_type": "execute_result"
    }
   ],
   "source": [
    "# Analyzing what we got above:\n",
    "df_bikes[\"time_length\"].describe()"
   ]
  },
  {
   "cell_type": "markdown",
   "id": "20149fec-00bd-4528-a55f-68422c48c96b",
   "metadata": {},
   "source": [
    "We can see a maximum of 11 days and over 16 hours and a minimum of 0 hours. The mean of the time spent by users in Cyclistic is 13 minutes."
   ]
  },
  {
   "cell_type": "markdown",
   "id": "ffc6586b-8b29-4f8e-a47a-0ea571871981",
   "metadata": {},
   "source": [
    "Now that we know the time length for each ride, we're going to get these values in the same unit, this time, in minutes."
   ]
  },
  {
   "cell_type": "code",
<<<<<<< HEAD
   "execution_count": 17,
=======
   "execution_count": 36,
>>>>>>> parent of 82028c4 (Added more comparisons between Cyclistic's users)
   "id": "1c2bc02f-229b-40c5-8398-8a274a7d843e",
   "metadata": {
    "tags": []
   },
   "outputs": [],
   "source": [
    "df_bikes[\"time_length (min)\"]=df_bikes[\"time_length\"].dt.total_seconds()/60\n",
    "df_bikes[\"time_length (min)\"].describe()\n",
    "# Dropping the previous columns with no unit transformation:\n",
    "df_bikes.drop(columns = [\"time_length\"], inplace=True)\n",
    "# These results make all sense: ((11days*24h)+16h)*60m= ~16800 minutes"
   ]
  },
  {
   "cell_type": "code",
<<<<<<< HEAD
   "execution_count": 18,
   "id": "b8857b54",
   "metadata": {},
   "outputs": [
    {
     "data": {
      "text/html": [
       "<div>\n",
       "<style scoped>\n",
       "    .dataframe tbody tr th:only-of-type {\n",
       "        vertical-align: middle;\n",
       "    }\n",
       "\n",
       "    .dataframe tbody tr th {\n",
       "        vertical-align: top;\n",
       "    }\n",
       "\n",
       "    .dataframe thead th {\n",
       "        text-align: right;\n",
       "    }\n",
       "</style>\n",
       "<table border=\"1\" class=\"dataframe\">\n",
       "  <thead>\n",
       "    <tr style=\"text-align: right;\">\n",
       "      <th></th>\n",
       "      <th>time_length (min)</th>\n",
       "    </tr>\n",
       "  </thead>\n",
       "  <tbody>\n",
       "    <tr>\n",
       "      <th>count</th>\n",
       "      <td>258678.000000</td>\n",
       "    </tr>\n",
       "    <tr>\n",
       "      <th>mean</th>\n",
       "      <td>13.080050</td>\n",
       "    </tr>\n",
       "    <tr>\n",
       "      <th>std</th>\n",
       "      <td>98.190841</td>\n",
       "    </tr>\n",
       "    <tr>\n",
       "      <th>min</th>\n",
       "      <td>0.000000</td>\n",
       "    </tr>\n",
       "    <tr>\n",
       "      <th>25%</th>\n",
       "      <td>4.433333</td>\n",
       "    </tr>\n",
       "    <tr>\n",
       "      <th>50%</th>\n",
       "      <td>7.500000</td>\n",
       "    </tr>\n",
       "    <tr>\n",
       "      <th>75%</th>\n",
       "      <td>12.833333</td>\n",
       "    </tr>\n",
       "    <tr>\n",
       "      <th>max</th>\n",
       "      <td>16808.066667</td>\n",
       "    </tr>\n",
       "  </tbody>\n",
       "</table>\n",
       "</div>"
      ],
      "text/plain": [
       "       time_length (min)\n",
       "count      258678.000000\n",
       "mean           13.080050\n",
       "std            98.190841\n",
       "min             0.000000\n",
       "25%             4.433333\n",
       "50%             7.500000\n",
       "75%            12.833333\n",
       "max         16808.066667"
      ]
     },
     "execution_count": 18,
     "metadata": {},
     "output_type": "execute_result"
    }
   ],
   "source": [
    "df_bikes.describe() # Considers the non-object column "
   ]
  },
  {
   "cell_type": "code",
   "execution_count": 19,
=======
   "execution_count": 37,
>>>>>>> parent of 82028c4 (Added more comparisons between Cyclistic's users)
   "id": "7c570ebd-fb37-44a2-a083-b9c930f6a000",
   "metadata": {},
   "outputs": [
    {
     "data": {
      "text/html": [
       "<div>\n",
       "<style scoped>\n",
       "    .dataframe tbody tr th:only-of-type {\n",
       "        vertical-align: middle;\n",
       "    }\n",
       "\n",
       "    .dataframe tbody tr th {\n",
       "        vertical-align: top;\n",
       "    }\n",
       "\n",
       "    .dataframe thead th {\n",
       "        text-align: right;\n",
       "    }\n",
       "</style>\n",
       "<table border=\"1\" class=\"dataframe\">\n",
       "  <thead>\n",
       "    <tr style=\"text-align: right;\">\n",
       "      <th></th>\n",
       "      <th>rideable_type</th>\n",
       "      <th>started_at</th>\n",
       "      <th>ended_at</th>\n",
       "      <th>member_casual</th>\n",
       "      <th>time_length [min]</th>\n",
       "    </tr>\n",
       "  </thead>\n",
       "  <tbody>\n",
       "    <tr>\n",
       "      <th>0</th>\n",
       "      <td>electric_bike</td>\n",
       "      <td>2023-03-16 08:20:34</td>\n",
       "      <td>2023-03-16 08:22:52</td>\n",
       "      <td>member</td>\n",
       "      <td>2.300000</td>\n",
       "    </tr>\n",
       "    <tr>\n",
       "      <th>1</th>\n",
       "      <td>electric_bike</td>\n",
       "      <td>2023-03-04 14:07:06</td>\n",
       "      <td>2023-03-04 14:15:31</td>\n",
       "      <td>member</td>\n",
       "      <td>8.416667</td>\n",
       "    </tr>\n",
       "    <tr>\n",
       "      <th>2</th>\n",
       "      <td>classic_bike</td>\n",
       "      <td>2023-03-31 12:28:09</td>\n",
       "      <td>2023-03-31 12:38:47</td>\n",
       "      <td>member</td>\n",
       "      <td>10.633333</td>\n",
       "    </tr>\n",
       "  </tbody>\n",
       "</table>\n",
       "</div>"
      ],
      "text/plain": [
       "   rideable_type          started_at            ended_at member_casual  \\\n",
       "0  electric_bike 2023-03-16 08:20:34 2023-03-16 08:22:52        member   \n",
       "1  electric_bike 2023-03-04 14:07:06 2023-03-04 14:15:31        member   \n",
       "2   classic_bike 2023-03-31 12:28:09 2023-03-31 12:38:47        member   \n",
       "\n",
       "   time_length [min]  \n",
       "0           2.300000  \n",
       "1           8.416667  \n",
       "2          10.633333  "
      ]
     },
<<<<<<< HEAD
     "execution_count": 19,
=======
     "execution_count": 37,
>>>>>>> parent of 82028c4 (Added more comparisons between Cyclistic's users)
     "metadata": {},
     "output_type": "execute_result"
    }
   ],
   "source": [
    "df_bikes.head(3)"
   ]
  },
  {
   "attachments": {},
   "cell_type": "markdown",
   "id": "58db2bce",
   "metadata": {},
   "source": [
<<<<<<< HEAD
    "Let's take a look at the following plots and see what's the behaviour between features. "
=======
    "Let's take a look at the plot and what's the behaviour between features. \n",
    "\n",
    "Recall that we have categorical values, that is, columns that have classifications as object type (rideable_type, member_casual).\n",
    "For these type of columns we may want to use One Hot Encoding or dummies."
>>>>>>> parent of 82028c4 (Added more comparisons between Cyclistic's users)
   ]
  },
  {
   "cell_type": "code",
<<<<<<< HEAD
   "execution_count": 28,
   "id": "58a22113",
   "metadata": {},
   "outputs": [
    {
     "data": {
      "image/png": "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",
      "text/plain": [
       "<Figure size 640x480 with 1 Axes>"
      ]
     },
     "metadata": {},
     "output_type": "display_data"
    }
   ],
   "source": [
    "plt.hist(df_bikes[\"rideable_type\"])\n",
    "plt.title(\"Time Spent in User Rides versus Type of Bike\")\n",
    "plt.xlabel(\"Type of bike\")\n",
    "plt.ylabel(\"Time length (minutes)\")\n",
    "plt.show()"
   ]
  },
  {
   "cell_type": "code",
   "execution_count": 21,
   "id": "a5c7bc97",
   "metadata": {},
   "outputs": [
    {
     "data": {
      "text/plain": [
       "electric_bike    57.436272\n",
       "classic_bike     41.396253\n",
       "docked_bike       1.167475\n",
       "Name: rideable_type, dtype: float64"
      ]
     },
     "execution_count": 21,
     "metadata": {},
     "output_type": "execute_result"
    }
   ],
   "source": [
    "(df_bikes[\"rideable_type\"].value_counts()/df_bikes[\"rideable_type\"].value_counts().sum())*100"
   ]
  },
  {
   "attachments": {},
   "cell_type": "markdown",
   "id": "07496aaf",
   "metadata": {},
   "source": [
    "We can see from the data that majority of time spent (or length) in Cyclistic (~57%) comes from electric bikes, hence, we could infere that users may prefer electric bikes over the classic bike and docked bike, as they spend more time using it.  "
   ]
  },
  {
   "cell_type": "code",
   "execution_count": null,
=======
   "execution_count": 42,
>>>>>>> parent of 82028c4 (Added more comparisons between Cyclistic's users)
   "id": "b086a644",
   "metadata": {},
   "outputs": [
    {
     "data": {
      "text/plain": [
       "<BarContainer object of 258678 artists>"
      ]
     },
     "execution_count": 42,
     "metadata": {},
     "output_type": "execute_result"
    },
    {
     "data": {
      "image/png": "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",
      "text/plain": [
       "<Figure size 640x480 with 1 Axes>"
      ]
     },
     "metadata": {},
     "output_type": "display_data"
    }
   ],
   "source": [
    "plt.bar(x=df_bikes[\"member_casual\"], height=df_bikes[\"time_length [min]\"])"
   ]
  },
  {
   "cell_type": "code",
<<<<<<< HEAD
   "execution_count": null,
=======
   "execution_count": 43,
>>>>>>> parent of 82028c4 (Added more comparisons between Cyclistic's users)
   "id": "9819297e",
   "metadata": {},
   "outputs": [],
   "source": [
<<<<<<< HEAD
    "plt.bar(x=df_bikes[\"rideable_type\"], height=df_bikes[\"time_length (min)\"])"
   ]
  },
  {
   "cell_type": "code",
   "execution_count": 23,
   "id": "f52910ec",
   "metadata": {},
   "outputs": [
    {
     "data": {
      "text/plain": [
       "<matplotlib.collections.PathCollection at 0x1f8818dfe50>"
      ]
     },
     "execution_count": 23,
     "metadata": {},
     "output_type": "execute_result"
    },
    {
     "data": {
      "image/png": "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",
      "text/plain": [
       "<Figure size 640x480 with 1 Axes>"
      ]
     },
     "metadata": {},
     "output_type": "display_data"
    }
   ],
   "source": [
    "plt.scatter(x=df_bikes[\"member_casual\"], y=df_bikes[\"rideable_type\"])"
   ]
  },
  {
   "cell_type": "code",
   "execution_count": null,
   "id": "51a915ff",
   "metadata": {},
   "outputs": [
    {
     "data": {
      "text/plain": [
       "(array([148575.,      0.,      0.,      0.,      0., 107083.,      0.,\n",
       "             0.,      0.,   3020.]),\n",
       " array([0. , 0.2, 0.4, 0.6, 0.8, 1. , 1.2, 1.4, 1.6, 1.8, 2. ]),\n",
       " <BarContainer object of 10 artists>)"
      ]
     },
     "execution_count": 52,
     "metadata": {},
     "output_type": "execute_result"
    },
    {
     "data": {
      "image/png": "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",
      "text/plain": [
       "<Figure size 640x480 with 1 Axes>"
      ]
     },
     "metadata": {},
     "output_type": "display_data"
    }
   ],
   "source": [
    "plt.hist(x=df_bikes[\"rideable_type\"])"
   ]
  },
  {
   "cell_type": "code",
   "execution_count": null,
   "id": "a0aa56ef",
   "metadata": {},
   "outputs": [
    {
     "data": {
      "text/plain": [
       "(array([196477.,      0.,      0.,      0.,      0.,      0.,      0.,\n",
       "             0.,      0.,  62201.]),\n",
       " array([0. , 0.1, 0.2, 0.3, 0.4, 0.5, 0.6, 0.7, 0.8, 0.9, 1. ]),\n",
       " <BarContainer object of 10 artists>)"
      ]
     },
     "execution_count": 53,
     "metadata": {},
     "output_type": "execute_result"
    },
    {
     "data": {
      "image/png": "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",
      "text/plain": [
       "<Figure size 640x480 with 1 Axes>"
      ]
     },
     "metadata": {},
     "output_type": "display_data"
    }
   ],
   "source": [
    "plt.hist(x=df_bikes[\"member_casual\"])"
=======
    "plt.bar(x=df_bikes[\"rideable_type\"], height=df_bikes[\"time_length [min]\"])"
>>>>>>> parent of 82028c4 (Added more comparisons between Cyclistic's users)
   ]
  },
  {
   "cell_type": "code",
   "execution_count": null,
   "id": "9cfae94f",
   "metadata": {},
   "outputs": [],
   "source": []
  }
 ],
 "metadata": {
  "kernelspec": {
   "display_name": "Python 3.10.8 64-bit",
   "language": "python",
   "name": "python3"
  },
  "language_info": {
   "codemirror_mode": {
    "name": "ipython",
    "version": 3
   },
   "file_extension": ".py",
   "mimetype": "text/x-python",
   "name": "python",
   "nbconvert_exporter": "python",
   "pygments_lexer": "ipython3",
   "version": "3.11.2"
  },
  "vscode": {
   "interpreter": {
    "hash": "d7546de2d5b66e6bb4051f93f462cf1f21acc5c70ac66712f7c9fa60f386dd80"
   }
  }
 },
 "nbformat": 4,
 "nbformat_minor": 5
}
