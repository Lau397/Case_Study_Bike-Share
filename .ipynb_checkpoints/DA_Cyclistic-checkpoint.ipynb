{
 "cells": [
  {
   "cell_type": "code",
   "execution_count": 1,
   "id": "cb4fb77d",
   "metadata": {},
   "outputs": [],
   "source": [
    "# importing libraries to use\n",
    "import pandas as pd "
   ]
  },
  {
   "cell_type": "code",
   "execution_count": null,
   "id": "e0c09a8d",
   "metadata": {},
   "outputs": [],
   "source": [
    "df_bikes = pd.read_excel(\"./Trip_Data_022023.xlsx\")\n",
    "\n",
    "# Let's take a look at the data we're dealing with:\n",
    "df_bikes.shape"
   ]
  },
  {
   "cell_type": "code",
   "execution_count": null,
   "id": "c4f3df16",
   "metadata": {},
   "outputs": [],
   "source": []
  },
  {
   "cell_type": "code",
   "execution_count": null,
   "id": "1358d945",
   "metadata": {},
   "outputs": [],
   "source": []
  }
 ],
 "metadata": {
  "kernelspec": {
   "display_name": "Python 3 (ipykernel)",
   "language": "python",
   "name": "python3"
  },
  "language_info": {
   "codemirror_mode": {
    "name": "ipython",
    "version": 3
   },
   "file_extension": ".py",
   "mimetype": "text/x-python",
   "name": "python",
   "nbconvert_exporter": "python",
   "pygments_lexer": "ipython3",
   "version": "3.9.13"
  },
  "vscode": {
   "interpreter": {
    "hash": "66d3b0bda59001c6aeea5639db31704a6ed5dbbb92cf3cc7850ab646539216bd"
   }
  }
 },
 "nbformat": 4,
 "nbformat_minor": 5
}
